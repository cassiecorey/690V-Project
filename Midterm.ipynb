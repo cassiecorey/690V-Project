{
 "cells": [
  {
   "cell_type": "markdown",
   "metadata": {},
   "source": [
    "# Midterm\n",
    "\n",
    "Authors: Cassie Corey, Jay Zou\n",
    "\n",
    "Tasks:\n",
    "1. Read in (parse, tokenize, ...) the text (30 points)\n",
    "2. Visualize the text using different interactive Bokeh visualizations (10 points of each different type of interactive visualizations - max 30).\n",
    "3. Cluster the text and visualize using interactive Bokeh visualizations (10 points for each different type of interactive visualizations - max 30).\n",
    "4. Explain what you've seen (10 points)\n",
    "\n",
    "### Introduction\n",
    "\n",
    "Our text mining and visualizations are based on the [Heavy Metal Text Mining](https://paulvanderlaken.com/2017/09/27/text-mining-pythonic-heavy-metal/) example. This example looks at multiple characteristics of the lyrics, some of which include: TFIDF, cosine distances between word distributions, emotional arcs, swearwords, and lyric generation. The characteristics were visualized using various scatter plots, graphs, trees, and word clouds.\n",
    "\n",
    "### Required Libraries\n",
    "\n",
    "These can all be installed with `pip install <package>`\n",
    "- BeautifulSoup\n",
    "- Sklearn\n",
    "- Textstat\n",
    "\n",
    "### Gathering Data\n",
    "\n",
    "Since this example does not provide a dataset of lyrics, we collected lyrics ourselves by scraping [MetroLyrics](https://www.metrolyrics.com).\n",
    "\n",
    "First we chose a music genre: Tech Death Metal. We got our list of bands from [Wikipedia's list of Technical Death Metal Bands](https://en.wikipedia.org/wiki/List_of_technical_death_metal_bands)."
   ]
  },
  {
   "cell_type": "code",
   "execution_count": 188,
   "metadata": {
    "collapsed": true
   },
   "outputs": [],
   "source": [
    "import requests\n",
    "from bs4 import BeautifulSoup\n",
    "\n",
    "WIKI_URL = \"https://en.wikipedia.org/wiki/List_of_technical_death_metal_bands\"\n",
    "\n",
    "req = requests.get(WIKI_URL)\n",
    "soup = BeautifulSoup(req.content, 'lxml')\n",
    "table_cells = soup.findAll(\"td\")\n",
    "\n",
    "artists = []\n",
    "for cell in table_cells:\n",
    "    link = cell.find('a',href=True)\n",
    "    if link is not None:\n",
    "        if '[' not in link.text:\n",
    "            artists.append(link.text.replace('(band)','').strip())\n",
    "\n",
    "# It'll be convenient to have a lowercase version for URLs and indexing.\n",
    "artists_L = [a.lower() for a in artists]"
   ]
  },
  {
   "cell_type": "markdown",
   "metadata": {},
   "source": [
    "The next cell contains some useful methods that we'll need for getting urls and lyrics from urls."
   ]
  },
  {
   "cell_type": "code",
   "execution_count": 214,
   "metadata": {
    "collapsed": true
   },
   "outputs": [],
   "source": [
    "from bs4 import BeautifulSoup\n",
    "from time import sleep, time\n",
    "import random, requests\n",
    "\n",
    "BASE_URL = \"http://www.metrolyrics.com/\"\n",
    "\n",
    "def get_song_urls(artists):\n",
    "    art_song_dict = {}\n",
    "    for artist in artists:\n",
    "        url = BASE_URL + artist.replace(' ','-') + \"-lyrics.html\"\n",
    "        sleep(random.randint(0,10))\n",
    "        response = requests.get(url)\n",
    "        if response.status_code != 404: # Not all artists might be on MetroLyrics\n",
    "            soup = BeautifulSoup(response.content, 'lxml')\n",
    "            links = [a['href'] for a in soup.find_all('a',href=True)]\n",
    "            song_list = []\n",
    "            for link in links:\n",
    "                if \"lyrics-\" + artist.replace(' ','-') in link:\n",
    "                    song_list.append(link)\n",
    "            art_song_dict[artist] = song_list\n",
    "    return art_song_dict\n",
    "\n",
    "def get_lyrics(song_url):\n",
    "    sleep(random.randint(0,10))\n",
    "    response = requests.get(song_url)\n",
    "    soup = BeautifulSoup(response.content, 'lxml')\n",
    "    verses = soup.find_all(\"p\",{\"class\":\"verse\"})\n",
    "    lyrics = ''\n",
    "    for verse in verses:\n",
    "        lyrics += verse.text + ' '\n",
    "#         lyrics += verse.text.replace('\\n',' ') + ' '\n",
    "    return lyrics\n",
    "\n",
    "def song_from_url(song_url):\n",
    "    return song_url[27:].split('lyrics')[0].replace('-',' ').strip()"
   ]
  },
  {
   "cell_type": "markdown",
   "metadata": {},
   "source": [
    "_WARNING:_ THE FOLLOW CELL MAY TAKE UP TO __5 MINUTES__ TO RUN\n",
    "\n",
    "This cell fetches urls for songs from each artist. We then use these urls to fetch the lyrics for each song."
   ]
  },
  {
   "cell_type": "code",
   "execution_count": 215,
   "metadata": {},
   "outputs": [
    {
     "name": "stdout",
     "output_type": "stream",
     "text": [
      "Fetching song urls..."
     ]
    },
    {
     "ename": "KeyboardInterrupt",
     "evalue": "",
     "output_type": "error",
     "traceback": [
      "\u001b[0;31m---------------------------------------------------------------------------\u001b[0m",
      "\u001b[0;31mKeyboardInterrupt\u001b[0m                         Traceback (most recent call last)",
      "\u001b[0;32m<ipython-input-215-440c1f70f2f7>\u001b[0m in \u001b[0;36m<module>\u001b[0;34m()\u001b[0m\n\u001b[1;32m      1\u001b[0m \u001b[0mt0\u001b[0m \u001b[0;34m=\u001b[0m \u001b[0mtime\u001b[0m\u001b[0;34m(\u001b[0m\u001b[0;34m)\u001b[0m\u001b[0;34m\u001b[0m\u001b[0m\n\u001b[1;32m      2\u001b[0m \u001b[0mprint\u001b[0m\u001b[0;34m(\u001b[0m\u001b[0;34m'Fetching song urls...'\u001b[0m\u001b[0;34m,\u001b[0m\u001b[0mend\u001b[0m\u001b[0;34m=\u001b[0m\u001b[0;34m''\u001b[0m\u001b[0;34m)\u001b[0m\u001b[0;34m\u001b[0m\u001b[0m\n\u001b[0;32m----> 3\u001b[0;31m \u001b[0mart_song_dict\u001b[0m \u001b[0;34m=\u001b[0m \u001b[0mget_song_urls\u001b[0m\u001b[0;34m(\u001b[0m\u001b[0martists_L\u001b[0m\u001b[0;34m)\u001b[0m\u001b[0;34m\u001b[0m\u001b[0m\n\u001b[0m\u001b[1;32m      4\u001b[0m \u001b[0mprint\u001b[0m\u001b[0;34m(\u001b[0m\u001b[0;34m'Done in {:02f}s'\u001b[0m\u001b[0;34m.\u001b[0m\u001b[0mformat\u001b[0m\u001b[0;34m(\u001b[0m\u001b[0mtime\u001b[0m\u001b[0;34m(\u001b[0m\u001b[0;34m)\u001b[0m\u001b[0;34m-\u001b[0m\u001b[0mt0\u001b[0m\u001b[0;34m)\u001b[0m\u001b[0;34m)\u001b[0m\u001b[0;34m\u001b[0m\u001b[0m\n",
      "\u001b[0;32m<ipython-input-214-f38d5db17b6c>\u001b[0m in \u001b[0;36mget_song_urls\u001b[0;34m(artists)\u001b[0m\n\u001b[1;32m      9\u001b[0m     \u001b[0;32mfor\u001b[0m \u001b[0martist\u001b[0m \u001b[0;32min\u001b[0m \u001b[0martists\u001b[0m\u001b[0;34m:\u001b[0m\u001b[0;34m\u001b[0m\u001b[0m\n\u001b[1;32m     10\u001b[0m         \u001b[0murl\u001b[0m \u001b[0;34m=\u001b[0m \u001b[0mBASE_URL\u001b[0m \u001b[0;34m+\u001b[0m \u001b[0martist\u001b[0m\u001b[0;34m.\u001b[0m\u001b[0mreplace\u001b[0m\u001b[0;34m(\u001b[0m\u001b[0;34m' '\u001b[0m\u001b[0;34m,\u001b[0m\u001b[0;34m'-'\u001b[0m\u001b[0;34m)\u001b[0m \u001b[0;34m+\u001b[0m \u001b[0;34m\"-lyrics.html\"\u001b[0m\u001b[0;34m\u001b[0m\u001b[0m\n\u001b[0;32m---> 11\u001b[0;31m         \u001b[0msleep\u001b[0m\u001b[0;34m(\u001b[0m\u001b[0mrandom\u001b[0m\u001b[0;34m.\u001b[0m\u001b[0mrandint\u001b[0m\u001b[0;34m(\u001b[0m\u001b[0;36m0\u001b[0m\u001b[0;34m,\u001b[0m\u001b[0;36m10\u001b[0m\u001b[0;34m)\u001b[0m\u001b[0;34m)\u001b[0m\u001b[0;34m\u001b[0m\u001b[0m\n\u001b[0m\u001b[1;32m     12\u001b[0m         \u001b[0mresponse\u001b[0m \u001b[0;34m=\u001b[0m \u001b[0mrequests\u001b[0m\u001b[0;34m.\u001b[0m\u001b[0mget\u001b[0m\u001b[0;34m(\u001b[0m\u001b[0murl\u001b[0m\u001b[0;34m)\u001b[0m\u001b[0;34m\u001b[0m\u001b[0m\n\u001b[1;32m     13\u001b[0m         \u001b[0;32mif\u001b[0m \u001b[0mresponse\u001b[0m\u001b[0;34m.\u001b[0m\u001b[0mstatus_code\u001b[0m \u001b[0;34m!=\u001b[0m \u001b[0;36m404\u001b[0m\u001b[0;34m:\u001b[0m \u001b[0;31m# Not all artists might be on MetroLyrics\u001b[0m\u001b[0;34m\u001b[0m\u001b[0m\n",
      "\u001b[0;31mKeyboardInterrupt\u001b[0m: "
     ]
    }
   ],
   "source": [
    "t0 = time()\n",
    "print('Fetching song urls...',end='')\n",
    "art_song_dict = get_song_urls(artists_L)\n",
    "print('Done in {:02f}s'.format(time()-t0))"
   ]
  },
  {
   "cell_type": "code",
   "execution_count": 217,
   "metadata": {
    "collapsed": true
   },
   "outputs": [],
   "source": [
    "import pandas as pd\n",
    "\n",
    "# Initialize a dataframe to hold the lyrics\n",
    "lyrics_df = pd.DataFrame(columns=['artist','song','lyrics'])"
   ]
  },
  {
   "cell_type": "markdown",
   "metadata": {},
   "source": [
    "_WARNING:_ THE FOLLOWING CELL WILL RUN FOR A __REALLY LONG TIME__, like until the network connection times out.\n",
    "\n",
    "This cell fetches lyrics from the song URLs. It is OK to interrupt this cell at any time if you have other business to do. As long as you save your work in the cell that follows, you can come back to this cell and it won't waste time on lyrics it has already gathered.\n",
    "\n",
    "That said, you do still run the risk of interrupting it while it's in the middle of writing lyrics for a song. So you may get some partially complete lyrics. But you can manually check that if you're really concerned."
   ]
  },
  {
   "cell_type": "code",
   "execution_count": null,
   "metadata": {},
   "outputs": [
    {
     "name": "stdout",
     "output_type": "stream",
     "text": [
      "Fetching lyrics for:  gojira\n",
      "Fetching lyrics for:  monstrosity\n",
      "Fetching lyrics for:  as they sleep\n",
      "Fetching lyrics for:  oceano\n",
      "Fetching lyrics for:  born of osiris\n",
      "Fetching lyrics for:  origin\n",
      "Fetching lyrics for:  extol\n",
      "Fetching lyrics for:  dying fetus\n",
      "Fetching lyrics for:  rings of saturn\n",
      "Fetching lyrics for:  nile\n",
      "Fetching lyrics for:  in battle\n",
      "Fetching lyrics for:  suffocation\n",
      "Fetching lyrics for:  pestilence\n",
      "Fetching lyrics for:  cryptopsy\n",
      "Fetching lyrics for:  obscura\n",
      "Fetching lyrics for:  meshuggah\n",
      "Fetching lyrics for:  death\n",
      "Fetching lyrics for:  nocturnus\n",
      "Fetching lyrics for:  becoming the archetype\n"
     ]
    }
   ],
   "source": [
    "t0 = time()\n",
    "for artist in art_song_dict:\n",
    "    print(\"Fetching lyrics for: \",artist)\n",
    "    for song_url in art_song_dict[artist]:\n",
    "        song = song_from_url(song_url)\n",
    "        if song not in lyrics_df.song.values:\n",
    "            lyrics = get_lyrics(song_url)\n",
    "            lyrics_df = lyrics_df.append({'artist':artist,\n",
    "                                          'song':song,\n",
    "                                          'lyrics':lyrics},ignore_index=True)\n",
    "print('Done in {:02f}s'.format(time()-t0))"
   ]
  },
  {
   "cell_type": "code",
   "execution_count": 213,
   "metadata": {
    "collapsed": true
   },
   "outputs": [],
   "source": [
    "# Save the lyrics data.\n",
    "lyrics_df.to_csv('lyrics_line.csv')"
   ]
  },
  {
   "cell_type": "markdown",
   "metadata": {},
   "source": [
    "There were some lyrics that weren't available on MetroLyrics. The following is an attempt to get the missing lyrics from another site: Genius.com."
   ]
  },
  {
   "cell_type": "code",
   "execution_count": 182,
   "metadata": {
    "collapsed": true
   },
   "outputs": [],
   "source": [
    "def get_genius_lyrics(song,artist):\n",
    "    url = \"http://genius.com/{}-{}-lyrics\".format(artist.replace(' ','-'),song.replace(' ','-'))\n",
    "    print(url)\n",
    "    response = requests.get(url)\n",
    "    if response.status_code != 404:\n",
    "        soup = BeautifulSoup(response.content,'lxml')\n",
    "        lyrics = soup.find(\"div\",{\"class\":\"lyrics\"})\n",
    "        text = lyrics.find(\"p\").text\n",
    "#         text = lyrics.find(\"p\").text.replace('\\n',' ')\n",
    "        print(text)\n",
    "        return text\n",
    "    return ''"
   ]
  },
  {
   "cell_type": "code",
   "execution_count": 212,
   "metadata": {},
   "outputs": [
    {
     "name": "stdout",
     "output_type": "stream",
     "text": [
      "166 songs missing!\n",
      "http://genius.com/gojira-1990-quatrillions-de-tonnes-lyrics\n",
      "http://genius.com/gojira-dawn-lyrics\n",
      "[Instrumental]\n",
      "http://genius.com/gojira-torii-lyrics\n",
      "[Instrumental]\n",
      "http://genius.com/gojira-terra-incognita-lyrics\n",
      "[Instrumental]\n",
      "http://genius.com/gojira-wisdom-lyrics\n",
      "http://genius.com/gojira-connected-lyrics\n",
      "[Instrumental]\n",
      "http://genius.com/gojira-where-dragons-fall-lyrics\n",
      "http://genius.com/gojira-burden-of-evil-lyrics\n",
      "http://genius.com/gojira-ceremonial-void-lyrics\n",
      "http://genius.com/gojira-darkest-dream-lyrics\n",
      "http://genius.com/gojira-horror-infinity-lyrics\n",
      "http://genius.com/gojira-immense-malignancy-lyrics\n",
      "http://genius.com/gojira-imperial-doom-lyrics\n",
      "http://genius.com/gojira-the-third-reich-lyrics\n",
      "http://genius.com/gojira-to-the-republic-lyrics\n",
      "http://genius.com/gojira-the-darkest-ages-lyrics\n",
      "http://genius.com/gojira-god-of-war-lyrics\n",
      "http://genius.com/gojira-attila-lyrics\n",
      "http://genius.com/gojira-poseidon-lyrics\n",
      "http://genius.com/gojira-oracle-of-the-dead-lyrics\n",
      "http://genius.com/gojira-the-unseen-lyrics\n",
      "http://genius.com/gojira-the-offering-lyrics\n",
      "http://genius.com/gojira-path-to-extincton-lyrics\n",
      "http://genius.com/gojira-path-to-extinction-explicit-lyrics\n",
      "http://genius.com/gojira-depths-lyrics\n",
      "http://genius.com/gojira-final-form-explicit-lyrics\n",
      "http://genius.com/gojira-final-form-lyrics\n",
      "http://genius.com/gojira-abysm-lyrics\n",
      "http://genius.com/gojira-digital-booklet-revelation-lyrics\n",
      "http://genius.com/gojira-descent-lyrics\n",
      "http://genius.com/gojira-continuum-lyrics\n",
      "http://genius.com/gojira-obsolescence-lyrics\n",
      "http://genius.com/gojira-awaken-the-suffering-lyrics\n",
      "http://genius.com/gojira-permanence-lyrics\n",
      "http://genius.com/gojira-inferno-lyrics\n",
      "http://genius.com/gojira-praise-the-lord-opium-of-the-masses-lyrics\n",
      "http://genius.com/gojira-descend-into-depravity-lyrics\n",
      "http://genius.com/gojira-harvest-lyrics\n",
      "http://genius.com/gojira-immemorial-essence-lyrics\n",
      "http://genius.com/gojira-unhallowed-lyrics\n",
      "http://genius.com/gojira-the-macrocosm-lyrics\n",
      "http://genius.com/gojira-prognosis-confirmed-lyrics\n",
      "http://genius.com/gojira-margidda-lyrics\n",
      "http://genius.com/gojira-the-relic-lyrics\n",
      "http://genius.com/gojira-ethnomusicological-cannibalisms-lyrics\n",
      "http://genius.com/gojira-slaves-of-xul-lyrics\n",
      "http://genius.com/gojira-the-inevitable-degradation-of-flesh-instrumental-lyrics\n",
      "http://genius.com/gojira-ushabti-reanimator-lyrics\n",
      "http://genius.com/gojira-enduring-the-eternal-molestation-of-flame-instrumental-lyrics\n",
      "http://genius.com/gojira-the-nocturnal-moon-lyrics\n",
      "http://genius.com/gojira-de-hangdas-furste-lyrics\n",
      "http://genius.com/gojira-muspelheim-the-dominion-of-the-flame-lyrics\n",
      "http://genius.com/gojira-lokes-att-lyrics\n",
      "http://genius.com/gojira-storms-of-war-lyrics\n",
      "http://genius.com/gojira-the-rage-of-the-northmen-lyrics\n",
      "http://genius.com/gojira-in-battle-lyrics\n",
      "http://genius.com/gojira-the-destroyer-of-souls-lyrics\n",
      "http://genius.com/gojira-the-spectre-of-hate-lyrics\n",
      "http://genius.com/gojira-odhinn-lyrics\n",
      "http://genius.com/gojira-a-sign-of-northern-triumph-and-glory-lyrics\n",
      "http://genius.com/gojira-the-conqueror-lyrics\n",
      "http://genius.com/gojira-armies-of-the-northern-realms-lyrics\n",
      "http://genius.com/gojira-enchant-me-lyrics\n",
      "http://genius.com/gojira-doom-of-the-unbeloved-lyrics\n",
      "http://genius.com/gojira-from-the-flesh-and-bones-of-our-enemies-lyrics\n",
      "http://genius.com/gojira-i-ofred-vi-drar-fram-lyrics\n",
      "http://genius.com/gojira-helhorde-lyrics\n",
      "http://genius.com/gojira-ruler-of-the-northern-sphere-lyrics\n",
      "http://genius.com/gojira-ar-av-kold-lyrics\n",
      "http://genius.com/gojira-abomination-reborn-lyrics\n",
      "http://genius.com/gojira-some-things-should-be-left-alone-lyrics\n",
      "http://genius.com/gojira-jesus-wept-lyrics\n",
      "http://genius.com/gojira-prelude-to-repulsion-lyrics\n",
      "http://genius.com/gojira-souls-to-deny-lyrics\n",
      "http://genius.com/monstrosity-the-origin-of-primal-expression-lyrics\n",
      "http://genius.com/monstrosity-ayahuasca-experience-lyrics\n",
      "http://genius.com/monstrosity-swarmer-lyrics\n",
      "http://genius.com/monstrosity-mindu2019s-mirrors-in-death-is-life-in-death-is-death-lyrics\n",
      "http://genius.com/monstrosity-sovereigns-morbitity-lyrics\n",
      "http://genius.com/monstrosity-debt-of-nature-lyrics\n",
      "http://genius.com/monstrosity-by-emptyness-abducted-lyrics\n",
      "http://genius.com/monstrosity-dont-speak-lyrics\n",
      "http://genius.com/monstrosity-tour-and-studio-clips-mpeg-video-trax-lyrics\n",
      "http://genius.com/monstrosity-within-the-mind-lyrics\n",
      "http://genius.com/monstrosity-open-casket-lyrics\n",
      "http://genius.com/monstrosity-nothing-is-everything-lyrics\n",
      "http://genius.com/monstrosity-jealousy-lyrics\n",
      "http://genius.com/monstrosity-evil-dead-lyrics\n",
      "http://genius.com/monstrosity-left-to-die-lyrics\n",
      "http://genius.com/monstrosity-free-lyrics\n",
      "http://genius.com/monstrosity-choke-on-it-lyrics\n",
      "http://genius.com/monstrosity-forgotten-past-lyrics\n",
      "http://genius.com/monstrosity-youre-a-prisoner-lyrics\n",
      "http://genius.com/monstrosity-open-road-lyrics\n",
      "http://genius.com/monstrosity-look-at-your-life-lyrics\n",
      "http://genius.com/monstrosity-the-times-lyrics\n",
      "http://genius.com/monstrosity-playtime-lyrics\n",
      "http://genius.com/monstrosity-you-are-what-you-think-lyrics\n",
      "http://genius.com/monstrosity-at-the-station-lyrics\n",
      "http://genius.com/monstrosity-one-man-parade-lyrics\n",
      "http://genius.com/monstrosity-ex-nihilo-lyrics\n",
      "http://genius.com/monstrosity-elegy-lyrics\n",
      "http://genius.com/monstrosity-autopsy-lyrics\n",
      "http://genius.com/monstrosity-the-epigone-lyrics\n",
      "http://genius.com/monstrosity-the-magnetic-sky-lyrics\n",
      "http://genius.com/monstrosity-path-of-the-beam-lyrics\n",
      "http://genius.com/monstrosity-internal-illumination-lyrics\n",
      "http://genius.com/monstrosity-the-war-ender-lyrics\n",
      "http://genius.com/monstrosity-i-am-lyrics\n",
      "http://genius.com/monstrosity-the-sky-bearer-lyrics\n",
      "http://genius.com/monstrosity-the-time-bender-lyrics\n",
      "http://genius.com/monstrosity-the-eyes-of-the-storm-lyrics\n",
      "http://genius.com/monstrosity-the-weapon-breaker-lyrics\n",
      "http://genius.com/monstrosity-no-fall-too-far-lyrics\n",
      "http://genius.com/monstrosity-the-trivial-paroxysm-lyrics\n",
      "http://genius.com/as-they-sleep-dichotomy-lyrics\n",
      "http://genius.com/as-they-sleep-breathing-light-lyrics\n",
      "http://genius.com/as-they-sleep-the-ocean-walker-lyrics\n",
      "http://genius.com/as-they-sleep-cardiac-rebellion-lyrics\n",
      "http://genius.com/as-they-sleep-the-sun-eater-lyrics\n",
      "http://genius.com/as-they-sleep-the-planet-maker-lyrics\n",
      "http://genius.com/as-they-sleep-enter-the-hall-lyrics\n",
      "http://genius.com/as-they-sleep-leviathan-awaits-lyrics\n",
      "http://genius.com/as-they-sleep-pestilence-reigns-lyrics\n",
      "http://genius.com/as-they-sleep-dismantle-the-dictator-lyrics\n",
      "http://genius.com/as-they-sleep-across-forests-and-fjords-lyrics\n",
      "http://genius.com/oceano-existence-is-futile-lyrics\n",
      "http://genius.com/oceano-apex-lyrics\n",
      "http://genius.com/oceano-the-exaltation-lyrics\n",
      "http://genius.com/oceano-anthem-of-the-betrayed-lyrics\n",
      "http://genius.com/oceano-six-feet-of-foreplay-lyrics\n",
      "http://genius.com/oceano-dellamorte-dellamore-lyrics\n",
      "http://genius.com/oceano-the-source-lyrics\n",
      "http://genius.com/oceano-axiom-lyrics\n",
      "http://genius.com/oceano-anger-line-lyrics\n",
      "http://genius.com/oceano-never-lyrics\n",
      "http://genius.com/oceano-amen-lyrics\n",
      "http://genius.com/oceano-devour-me-colossus-pt-2-contortions-lyrics\n",
      "http://genius.com/oceano-painters-of-the-tempest-pt-3-reveries-from-the-lyrics\n",
      "http://genius.com/oceano-painters-of-the-tempest-pt-1-wyrmoles-lyrics\n",
      "http://genius.com/oceano-stabwound-lyrics\n",
      "http://genius.com/oceano-epitath-lyrics\n",
      "http://genius.com/oceano-concepting-the-era-of-genocide-lyrics\n",
      "http://genius.com/oceano-esence-of-creation-lyrics\n",
      "http://genius.com/oceano-darkness-embrace-lyrics\n",
      "http://genius.com/oceano-sea-of-memories-lyrics\n",
      "http://genius.com/oceano-the-enigmatic-form-lyrics\n",
      "http://genius.com/oceano-the-morpheus-oracle-lyrics\n",
      "http://genius.com/oceano-from-skin-to-liquid-lyrics\n",
      "http://genius.com/oceano-cagedcontorted-lyrics\n",
      "http://genius.com/oceano-closure-lyrics\n",
      "http://genius.com/oceano-face-of-melinda-lyrics\n",
      "http://genius.com/oceano-to-rid-the-disease-lyrics\n",
      "http://genius.com/oceano-patterns-in-the-ivy-lyrics\n",
      "http://genius.com/oceano-benighted-lyrics\n",
      "http://genius.com/oceano-ending-credits-lyrics\n",
      "http://genius.com/oceano-requiem-lyrics\n",
      "http://genius.com/oceano-silhouette-lyrics\n",
      "http://genius.com/oceano-weakness-lyrics\n",
      "http://genius.com/oceano-moor-lyrics\n"
     ]
    },
    {
     "name": "stdout",
     "output_type": "stream",
     "text": [
      "http://genius.com/oceano-lotus-eater-lyrics\n",
      "http://genius.com/oceano-silent-lyrics\n",
      "http://genius.com/born-of-osiris-fidelio-lyrics\n",
      "http://genius.com/born-of-osiris-dreamless-lyrics\n",
      "http://genius.com/born-of-osiris-les-silence-lyrics\n",
      "http://genius.com/born-of-osiris-fractal-point-lyrics\n",
      "Done in 40.545631\n"
     ]
    }
   ],
   "source": [
    "missing_songs = lyrics_df[lyrics_df.lyrics==''].song\n",
    "print(\"{} songs missing!\".format(len(missing_songs)))\n",
    "\n",
    "t0 = time()\n",
    "for idx,song in enumerate(missing_songs):\n",
    "    artist = lyrics_df.iloc[idx].artist\n",
    "    lyrics = get_genius_lyrics(song,artist)\n",
    "    if lyrics != '':\n",
    "        lyrics_df.iloc[idx].lyrics = lyrics\n",
    "print(\"Done in {:02f}\".format(time()-t0))\n",
    "\n",
    "# Save our work.\n",
    "lyrics_df.to_csv('lyrics.csv')"
   ]
  },
  {
   "cell_type": "markdown",
   "metadata": {},
   "source": [
    "## Loading Data\n",
    "\n",
    "In case you didn't use the cells above to gather it."
   ]
  },
  {
   "cell_type": "code",
   "execution_count": 2,
   "metadata": {},
   "outputs": [
    {
     "data": {
      "text/html": [
       "<div>\n",
       "<table border=\"1\" class=\"dataframe\">\n",
       "  <thead>\n",
       "    <tr style=\"text-align: right;\">\n",
       "      <th></th>\n",
       "      <th>Unnamed: 0</th>\n",
       "      <th>artist</th>\n",
       "      <th>song</th>\n",
       "      <th>lyrics</th>\n",
       "    </tr>\n",
       "  </thead>\n",
       "  <tbody>\n",
       "    <tr>\n",
       "      <th>474</th>\n",
       "      <td>474</td>\n",
       "      <td>suffocation</td>\n",
       "      <td>rapture of revocation</td>\n",
       "      <td>Death lies within thyself Eager to release its...</td>\n",
       "    </tr>\n",
       "    <tr>\n",
       "      <th>990</th>\n",
       "      <td>990</td>\n",
       "      <td>psycroptic</td>\n",
       "      <td>the labyrinth</td>\n",
       "      <td>Tumbling deep into a darkened nightmare Uncons...</td>\n",
       "    </tr>\n",
       "    <tr>\n",
       "      <th>841</th>\n",
       "      <td>841</td>\n",
       "      <td>revocation</td>\n",
       "      <td>only the spineless survive</td>\n",
       "      <td>Devolved wriggling monstrosities roam through ...</td>\n",
       "    </tr>\n",
       "    <tr>\n",
       "      <th>930</th>\n",
       "      <td>930</td>\n",
       "      <td>cephalic carnage</td>\n",
       "      <td>friend of mine</td>\n",
       "      <td>Two years ago, a friend of mine told me to wri...</td>\n",
       "    </tr>\n",
       "    <tr>\n",
       "      <th>27</th>\n",
       "      <td>27</td>\n",
       "      <td>gojira</td>\n",
       "      <td>1990 quatrillions de tonnes</td>\n",
       "      <td>NaN</td>\n",
       "    </tr>\n",
       "    <tr>\n",
       "      <th>374</th>\n",
       "      <td>374</td>\n",
       "      <td>nile</td>\n",
       "      <td>kheftiu asar butchiu</td>\n",
       "      <td>Kheftin Asar Butbiu Enemies of Osiris Who Are ...</td>\n",
       "    </tr>\n",
       "    <tr>\n",
       "      <th>193</th>\n",
       "      <td>193</td>\n",
       "      <td>origin</td>\n",
       "      <td>thrall fulcrum apex</td>\n",
       "      <td>Trials and degenerations of an upjumped demigo...</td>\n",
       "    </tr>\n",
       "    <tr>\n",
       "      <th>1170</th>\n",
       "      <td>1170</td>\n",
       "      <td>cynic</td>\n",
       "      <td>thinking being</td>\n",
       "      <td>Coinage of my brain A bodiless creation ecstac...</td>\n",
       "    </tr>\n",
       "    <tr>\n",
       "      <th>1028</th>\n",
       "      <td>1028</td>\n",
       "      <td>arsis</td>\n",
       "      <td>failing winds of hopeless greed</td>\n",
       "      <td>So, the sight has finally left us with dreams ...</td>\n",
       "    </tr>\n",
       "    <tr>\n",
       "      <th>869</th>\n",
       "      <td>869</td>\n",
       "      <td>aborted</td>\n",
       "      <td>die verzweiflung</td>\n",
       "      <td>Ich bin das Ende aller Dinge Lautlos nähernt a...</td>\n",
       "    </tr>\n",
       "  </tbody>\n",
       "</table>\n",
       "</div>"
      ],
      "text/plain": [
       "      Unnamed: 0            artist                             song  \\\n",
       "474          474       suffocation            rapture of revocation   \n",
       "990          990        psycroptic                    the labyrinth   \n",
       "841          841        revocation       only the spineless survive   \n",
       "930          930  cephalic carnage                   friend of mine   \n",
       "27            27            gojira      1990 quatrillions de tonnes   \n",
       "374          374              nile             kheftiu asar butchiu   \n",
       "193          193            origin              thrall fulcrum apex   \n",
       "1170        1170             cynic                   thinking being   \n",
       "1028        1028             arsis  failing winds of hopeless greed   \n",
       "869          869           aborted                 die verzweiflung   \n",
       "\n",
       "                                                 lyrics  \n",
       "474   Death lies within thyself Eager to release its...  \n",
       "990   Tumbling deep into a darkened nightmare Uncons...  \n",
       "841   Devolved wriggling monstrosities roam through ...  \n",
       "930   Two years ago, a friend of mine told me to wri...  \n",
       "27                                                  NaN  \n",
       "374   Kheftin Asar Butbiu Enemies of Osiris Who Are ...  \n",
       "193   Trials and degenerations of an upjumped demigo...  \n",
       "1170  Coinage of my brain A bodiless creation ecstac...  \n",
       "1028  So, the sight has finally left us with dreams ...  \n",
       "869   Ich bin das Ende aller Dinge Lautlos nähernt a...  "
      ]
     },
     "execution_count": 2,
     "metadata": {},
     "output_type": "execute_result"
    }
   ],
   "source": [
    "import pandas as pd\n",
    "\n",
    "# Lyrics dataframe\n",
    "lyrics_df = pd.read_csv('lyrics.csv')\n",
    "lyrics_df.sample(10)"
   ]
  },
  {
   "cell_type": "markdown",
   "metadata": {},
   "source": [
    "## TFIDF\n",
    "\n",
    "Term frequency inverse document frequency (TFIDF) is a good way to visualize which words are the most descriptive of a certain corpus. We can use it to get an idea of the most descriptive words in the genre as a whole. It can also be used to distinguish between bands or distinguish which songs are the most descriptive of a band.\n",
    "\n",
    "TFIDF treats text as a Bag of Words which means that order doesn't matter and punctuation is ignored. This is good for lyrics because punctuation is sort of a free-for-all. There may be a lot of incomplete sentences or repeated words."
   ]
  },
  {
   "cell_type": "code",
   "execution_count": 5,
   "metadata": {},
   "outputs": [
    {
     "data": {
      "text/plain": [
       "<1125x15845 sparse matrix of type '<class 'numpy.float64'>'\n",
       "\twith 75297 stored elements in Compressed Sparse Row format>"
      ]
     },
     "execution_count": 5,
     "metadata": {},
     "output_type": "execute_result"
    }
   ],
   "source": [
    "from sklearn.feature_extraction.text import TfidfVectorizer\n",
    "\n",
    "vectorizer = TfidfVectorizer(stop_words='english',max_df=0.7)\n",
    "vectorizer.fit_transform(lyrics_df.dropna().lyrics)"
   ]
  },
  {
   "cell_type": "code",
   "execution_count": 7,
   "metadata": {},
   "outputs": [
    {
     "data": {
      "text/plain": [
       "15845"
      ]
     },
     "execution_count": 7,
     "metadata": {},
     "output_type": "execute_result"
    }
   ],
   "source": [
    "len(vectorizer.get_feature_names())"
   ]
  },
  {
   "cell_type": "markdown",
   "metadata": {
    "collapsed": true
   },
   "source": [
    "## Swear Words\n",
    "\n",
    "The original author did not provide a full dataset of lyrics (or even the code to scrape it). He did, however, provide a list of naughty words. So, we used that to explore naughty words in the lyrics we collected.\n",
    "\n",
    "He compared lyric complexity to the number of swearwords used and found a positive correlation. We do the same experiment below."
   ]
  },
  {
   "cell_type": "code",
   "execution_count": 42,
   "metadata": {
    "collapsed": true
   },
   "outputs": [],
   "source": [
    "# Read in the swear words\n",
    "with open('swear_words.txt','r') as f:\n",
    "    swear_words = f.read().splitlines()"
   ]
  },
  {
   "cell_type": "markdown",
   "metadata": {},
   "source": [
    "The original author used the SMOG measure of complexity. It estimates the reading grade level of text. However, this calculation relies on counting the number of sentences in a piece of text. Since lyrics are structured a bit differently from normal text, we might need to try a few different ways of dealing with the lack of punctuation."
   ]
  },
  {
   "cell_type": "code",
   "execution_count": 43,
   "metadata": {
    "collapsed": true
   },
   "outputs": [],
   "source": [
    "from textstat.textstat import textstat\n",
    "\n",
    "# From pythonic-metal github\n",
    "def count_swear_word_ratio(text):\n",
    "    counter = 0\n",
    "    for swear_word in swear_words:\n",
    "        counter += text.count(swear_word)\n",
    "    number_of_words = textstat.lexicon_count(text)\n",
    "    return counter/number_of_words"
   ]
  },
  {
   "cell_type": "code",
   "execution_count": 47,
   "metadata": {},
   "outputs": [
    {
     "data": {
      "text/html": [
       "<div>\n",
       "<table border=\"1\" class=\"dataframe\">\n",
       "  <thead>\n",
       "    <tr style=\"text-align: right;\">\n",
       "      <th></th>\n",
       "      <th>Unnamed: 0</th>\n",
       "      <th>artist</th>\n",
       "      <th>song</th>\n",
       "      <th>lyrics</th>\n",
       "      <th>complexity</th>\n",
       "      <th>swear_words_ratio</th>\n",
       "    </tr>\n",
       "  </thead>\n",
       "  <tbody>\n",
       "    <tr>\n",
       "      <th>557</th>\n",
       "      <td>557</td>\n",
       "      <td>pestilence</td>\n",
       "      <td>reduce to ashes</td>\n",
       "      <td>Dark middleagess centuries of pain The appear...</td>\n",
       "      <td>8.8</td>\n",
       "      <td>0.010582</td>\n",
       "    </tr>\n",
       "    <tr>\n",
       "      <th>495</th>\n",
       "      <td>495</td>\n",
       "      <td>suffocation</td>\n",
       "      <td>jesus wept</td>\n",
       "      <td>NaN</td>\n",
       "      <td>7.2</td>\n",
       "      <td>0.032787</td>\n",
       "    </tr>\n",
       "    <tr>\n",
       "      <th>1254</th>\n",
       "      <td>1254</td>\n",
       "      <td>cannibal corpse</td>\n",
       "      <td>priests of sodom</td>\n",
       "      <td>The blackened city calls out Enter the temple ...</td>\n",
       "      <td>0.0</td>\n",
       "      <td>0.000000</td>\n",
       "    </tr>\n",
       "    <tr>\n",
       "      <th>1158</th>\n",
       "      <td>1158</td>\n",
       "      <td>cynic</td>\n",
       "      <td>the lions roar</td>\n",
       "      <td>Bury the bells Between two mountains The big t...</td>\n",
       "      <td>0.0</td>\n",
       "      <td>0.000000</td>\n",
       "    </tr>\n",
       "    <tr>\n",
       "      <th>635</th>\n",
       "      <td>635</td>\n",
       "      <td>meshuggah</td>\n",
       "      <td>sane</td>\n",
       "      <td>Come And Hear My Twisted Lies, The Way I Bend ...</td>\n",
       "      <td>0.0</td>\n",
       "      <td>0.020833</td>\n",
       "    </tr>\n",
       "  </tbody>\n",
       "</table>\n",
       "</div>"
      ],
      "text/plain": [
       "      Unnamed: 0           artist              song  \\\n",
       "557          557       pestilence   reduce to ashes   \n",
       "495          495      suffocation        jesus wept   \n",
       "1254        1254  cannibal corpse  priests of sodom   \n",
       "1158        1158            cynic    the lions roar   \n",
       "635          635        meshuggah              sane   \n",
       "\n",
       "                                                 lyrics  complexity  \\\n",
       "557    Dark middleagess centuries of pain The appear...         8.8   \n",
       "495                                                 NaN         7.2   \n",
       "1254  The blackened city calls out Enter the temple ...         0.0   \n",
       "1158  Bury the bells Between two mountains The big t...         0.0   \n",
       "635   Come And Hear My Twisted Lies, The Way I Bend ...         0.0   \n",
       "\n",
       "      swear_words_ratio  \n",
       "557            0.010582  \n",
       "495            0.032787  \n",
       "1254           0.000000  \n",
       "1158           0.000000  \n",
       "635            0.020833  "
      ]
     },
     "execution_count": 47,
     "metadata": {},
     "output_type": "execute_result"
    }
   ],
   "source": [
    "lyrics_df['swear_words_ratio'] = 0\n",
    "lyrics_df['complexity'] = 0\n",
    "\n",
    "for i,lyrics in enumerate(lyrics_df.dropna().lyrics):\n",
    "    if len(lyrics)>0:\n",
    "        # Calculate complexity\n",
    "        complexity = textstat.smog_index(lyrics)\n",
    "        lyrics_df.iloc[i,lyrics_df.columns.get_loc('complexity')] = complexity\n",
    "        # Calculate swear words ratio\n",
    "        swr = count_swear_word_ratio(lyrics)\n",
    "        lyrics_df.iloc[i,lyrics_df.columns.get_loc('swear_words_ratio')] = swr\n",
    "\n",
    "lyrics_df.sample(5)"
   ]
  },
  {
   "cell_type": "code",
   "execution_count": null,
   "metadata": {
    "collapsed": true
   },
   "outputs": [],
   "source": [
    "# TODO: PLOT COMPLEXITY VS SWEAR_WORDS_RATIO IN BOKEH"
   ]
  },
  {
   "cell_type": "markdown",
   "metadata": {},
   "source": [
    "## Cosine Distance\n",
    "\n",
    "This measure was used to recognize band similarity and how representative certain songs were for a band. It also allowed the different bands to be clustered. We borrowed some code from the original author's notebook on [GitHub](https://github.com/ijmbarr/pythonic-metal/blob/master/pythonic-metal-part-1-counting.ipynb)."
   ]
  },
  {
   "cell_type": "code",
   "execution_count": 10,
   "metadata": {
    "collapsed": true
   },
   "outputs": [],
   "source": [
    "from scipy.spatial.distance import cosine as cs\n",
    "\n",
    "def important_words(n):\n",
    "    return sorted(vectorizer.get_feature_names(),key=lambda x:x[1],reverse=True)[:n]\n",
    "\n",
    "def most_representative_songs(vec, n):\n",
    "    pass\n",
    "    "
   ]
  },
  {
   "cell_type": "markdown",
   "metadata": {},
   "source": [
    "## Lyric Generation\n",
    "\n",
    "The original author built his own Markov chain class to generate lyrics. We're just going to use the Markovify library by [jsvine](https://github.com/jsvine/markovify).\n",
    "\n",
    "Since it doesn't really make sense to generate lyrics for an entire corpus, we'll just test lyric generation on the bands that we have the most data for.\n",
    "\n",
    "# TODO: VISUALIZATION OF LYRIC GENERATION"
   ]
  },
  {
   "cell_type": "code",
   "execution_count": null,
   "metadata": {
    "collapsed": true
   },
   "outputs": [],
   "source": [
    "import markovify\n",
    "\n"
   ]
  }
 ],
 "metadata": {
  "kernelspec": {
   "display_name": "Python 3",
   "language": "python",
   "name": "python3"
  },
  "language_info": {
   "codemirror_mode": {
    "name": "ipython",
    "version": 3
   },
   "file_extension": ".py",
   "mimetype": "text/x-python",
   "name": "python",
   "nbconvert_exporter": "python",
   "pygments_lexer": "ipython3",
   "version": "3.5.1"
  }
 },
 "nbformat": 4,
 "nbformat_minor": 2
}
