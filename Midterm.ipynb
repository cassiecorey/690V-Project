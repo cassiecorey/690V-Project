{
 "cells": [
  {
   "cell_type": "markdown",
   "metadata": {},
   "source": [
    "# Midterm\n",
    "\n",
    "Authors: Cassie Corey, Jay Zou\n",
    "\n",
    "Tasks:\n",
    "1. Read in (parse, tokenize, ...) the text (30 points)\n",
    "2. Visualize the text using different interactive Bokeh visualizations (10 points of each different type of interactive visualizations - max 30).\n",
    "3. Cluster the text and visualize using interactive Bokeh visualizations (10 points for each different type of interactive visualizations - max 30).\n",
    "4. Explain what you've seen (10 points)\n",
    "\n",
    "### Introduction\n",
    "\n",
    "Our text mining and visualizations are based on the [Heavy Metal Text Mining](https://paulvanderlaken.com/2017/09/27/text-mining-pythonic-heavy-metal/) example. This example looks at multiple characteristics of the lyrics, some of which include: TFIDF, cosine distances between word distributions, emotional arcs, swearwords, and lyric generation. The characteristics were visualized using various scatter plots, graphs, trees, and word clouds.\n",
    "\n",
    "### Gathering Data\n",
    "\n",
    "Since this example does not provide a dataset of lyrics, we collected lyrics ourselves by scraping [MetroLyrics](https://www.metrolyrics.com). First we chose a music genre: Tech Death Metal. We got our list of bands from [Wikipedia's list of Technical Death Metal Bands](https://en.wikipedia.org/wiki/List_of_technical_death_metal_bands). The following cell "
   ]
  },
  {
   "cell_type": "code",
   "execution_count": 188,
   "metadata": {},
   "outputs": [],
   "source": [
    "import requests\n",
    "from bs4 import BeautifulSoup\n",
    "\n",
    "WIKI_URL = \"https://en.wikipedia.org/wiki/List_of_technical_death_metal_bands\"\n",
    "\n",
    "req = requests.get(WIKI_URL)\n",
    "soup = BeautifulSoup(req.content, 'lxml')\n",
    "table_cells = soup.findAll(\"td\")\n",
    "\n",
    "artists = []\n",
    "for cell in table_cells:\n",
    "    link = cell.find('a',href=True)\n",
    "    if link is not None:\n",
    "        if '[' not in link.text:\n",
    "            artists.append(link.text.replace('(band)','').strip())\n",
    "\n",
    "# It'll be convenient to have a lowercase version for URLs and indexing.\n",
    "artists_L = [a.lower() for a in artists]"
   ]
  },
  {
   "cell_type": "markdown",
   "metadata": {},
   "source": [
    "The next cell contains some useful methods that we'll need for getting urls and lyrics from urls."
   ]
  },
  {
   "cell_type": "code",
   "execution_count": 112,
   "metadata": {
    "collapsed": true
   },
   "outputs": [],
   "source": [
    "from bs4 import BeautifulSoup\n",
    "from time import sleep, time\n",
    "import random, requests\n",
    "\n",
    "BASE_URL = \"http://www.metrolyrics.com/\"\n",
    "\n",
    "def get_song_urls(artists):\n",
    "    art_song_dict = {}\n",
    "    for artist in artists:\n",
    "        url = BASE_URL + artist.replace(' ','-') + \"-lyrics.html\"\n",
    "        sleep(random.randint(0,10))\n",
    "        response = requests.get(url)\n",
    "        if response.status_code != 404: # Not all artists might be on MetroLyrics\n",
    "            soup = BeautifulSoup(response.content, 'lxml')\n",
    "            links = [a['href'] for a in soup.find_all('a',href=True)]\n",
    "            song_list = []\n",
    "            for link in links:\n",
    "                if \"lyrics-\" + artist.replace(' ','-') in link:\n",
    "                    song_list.append(link)\n",
    "            art_song_dict[artist] = song_list\n",
    "    return art_song_dict\n",
    "\n",
    "def get_lyrics(song_url):\n",
    "    sleep(random.randint(0,10))\n",
    "    response = requests.get(song_url)\n",
    "    soup = BeautifulSoup(response.content, 'lxml')\n",
    "    verses = soup.find_all(\"p\",{\"class\":\"verse\"})\n",
    "    lyrics = ''\n",
    "    for verse in verses:\n",
    "        lyrics += verse.text.replace('\\n',' ') + ' '\n",
    "    return lyrics\n",
    "\n",
    "def song_from_url(song_url):\n",
    "    return song_url[27:].split('lyrics')[0].replace('-',' ').strip()"
   ]
  },
  {
   "cell_type": "code",
   "execution_count": 113,
   "metadata": {},
   "outputs": [
    {
     "name": "stdout",
     "output_type": "stream",
     "text": [
      "Artist:  7 horns 7 eyes\n",
      "Artist:  abnormality\n",
      "Artist:  aborted\n",
      "Artist:  aeon\n",
      "Artist:  anata\n",
      "Artist:  arsis\n",
      "Artist:  as they sleep\n",
      "Artist:  atheist\n",
      "Artist:  augury\n",
      "Artist:  becoming the archetype\n",
      "Artist:  beneath the massacre\n",
      "Artist:  beyond creation\n",
      "Artist:  born of osiris\n",
      "Artist:  brain drill\n",
      "Artist:  cannibal corpse\n",
      "Artist:  cephalic carnage\n",
      "Artist:  circle of contempt\n",
      "Artist:  the contortionist\n",
      "Artist:  coprofago\n",
      "Artist:  cryptopsy\n",
      "Artist:  cynic\n",
      "Artist:  death\n",
      "Artist:  decapitated\n",
      "Artist:  decrepit birth\n",
      "Artist:  dying fetus\n",
      "Artist:  extol\n",
      "Artist:  fallujah\n",
      "Artist:  the faceless\n",
      "Artist:  gojira\n",
      "Artist:  gorod\n",
      "Artist:  gorguts\n",
      "Artist:  grimaze\n",
      "Artist:  the haarp machine\n",
      "Artist:  in battle\n",
      "Artist:  into the moat\n",
      "Artist:  knights of the abyss\n",
      "Artist:  meshuggah\n",
      "Artist:  monstrosity\n",
      "Artist:  necrophagist\n",
      "Artist:  neuraxis\n",
      "Artist:  ne obliviscaris\n",
      "Artist:  nile\n",
      "Artist:  nocturnus\n",
      "Artist:  obscura\n",
      "Artist:  oceano\n",
      "Artist:  opeth\n",
      "Artist:  origin\n",
      "Artist:  pestilence\n",
      "Artist:  psycroptic\n",
      "Artist:  revocation\n",
      "Artist:  rings of saturn\n",
      "Artist:  suffocation\n",
      "Artist:  trigger the bloodshed\n",
      "Artist:  the red chord\n",
      "Done in 241.060108s\n"
     ]
    }
   ],
   "source": [
    "t0 = time()\n",
    "print('Fetching song urls...',end='')\n",
    "art_song_dict = get_song_urls(artists_L)\n",
    "print('Done in {:02f}s'.format(time()-t0))"
   ]
  },
  {
   "cell_type": "code",
   "execution_count": null,
   "metadata": {
    "collapsed": true
   },
   "outputs": [],
   "source": [
    "# Initialize a dataframe to hold the lyrics\n",
    "lyrics_df = pd.DataFrame(columns=['artist','song','lyrics'])"
   ]
  },
  {
   "cell_type": "code",
   "execution_count": 136,
   "metadata": {},
   "outputs": [
    {
     "name": "stdout",
     "output_type": "stream",
     "text": [
      "Fetching lyrics for:  gojira\n",
      "Fetching lyrics for:  monstrosity\n",
      "Fetching lyrics for:  as they sleep\n",
      "Fetching lyrics for:  oceano\n",
      "Fetching lyrics for:  born of osiris\n",
      "Fetching lyrics for:  origin\n",
      "Fetching lyrics for:  extol\n",
      "Fetching lyrics for:  dying fetus\n",
      "Fetching lyrics for:  rings of saturn\n",
      "Fetching lyrics for:  nile\n",
      "Fetching lyrics for:  in battle\n",
      "Fetching lyrics for:  suffocation\n",
      "Fetching lyrics for:  pestilence\n",
      "Fetching lyrics for:  cryptopsy\n",
      "Fetching lyrics for:  obscura\n",
      "Fetching lyrics for:  meshuggah\n",
      "Fetching lyrics for:  death\n",
      "Fetching lyrics for:  nocturnus\n",
      "Fetching lyrics for:  becoming the archetype\n",
      "Fetching lyrics for:  revocation\n",
      "Fetching lyrics for:  aborted\n",
      "Fetching lyrics for:  cephalic carnage\n",
      "Fetching lyrics for:  the contortionist\n",
      "Fetching lyrics for:  anata\n",
      "Fetching lyrics for:  psycroptic\n",
      "Fetching lyrics for:  arsis\n",
      "Fetching lyrics for:  augury\n",
      "Fetching lyrics for:  decapitated\n",
      "Fetching lyrics for:  aeon\n",
      "Fetching lyrics for:  ne obliviscaris\n",
      "Fetching lyrics for:  cynic\n",
      "Fetching lyrics for:  necrophagist\n",
      "Fetching lyrics for:  decrepit birth\n",
      "Fetching lyrics for:  cannibal corpse\n"
     ]
    },
    {
     "ename": "ConnectionError",
     "evalue": "HTTPConnectionPool(host='www.metrolyrics.com', port=80): Max retries exceeded with url: /unite-the-dead-lyrics-cannibal-corpse.html (Caused by NewConnectionError('<requests.packages.urllib3.connection.HTTPConnection object at 0x1080ca6a0>: Failed to establish a new connection: [Errno 8] nodename nor servname provided, or not known',))",
     "output_type": "error",
     "traceback": [
      "\u001b[0;31m---------------------------------------------------------------------------\u001b[0m",
      "\u001b[0;31mgaierror\u001b[0m                                  Traceback (most recent call last)",
      "\u001b[0;32m~/anaconda/lib/python3.5/site-packages/requests/packages/urllib3/connection.py\u001b[0m in \u001b[0;36m_new_conn\u001b[0;34m(self)\u001b[0m\n\u001b[1;32m    140\u001b[0m             conn = connection.create_connection(\n\u001b[0;32m--> 141\u001b[0;31m                 (self.host, self.port), self.timeout, **extra_kw)\n\u001b[0m\u001b[1;32m    142\u001b[0m \u001b[0;34m\u001b[0m\u001b[0m\n",
      "\u001b[0;32m~/anaconda/lib/python3.5/site-packages/requests/packages/urllib3/util/connection.py\u001b[0m in \u001b[0;36mcreate_connection\u001b[0;34m(address, timeout, source_address, socket_options)\u001b[0m\n\u001b[1;32m     59\u001b[0m \u001b[0;34m\u001b[0m\u001b[0m\n\u001b[0;32m---> 60\u001b[0;31m     \u001b[0;32mfor\u001b[0m \u001b[0mres\u001b[0m \u001b[0;32min\u001b[0m \u001b[0msocket\u001b[0m\u001b[0;34m.\u001b[0m\u001b[0mgetaddrinfo\u001b[0m\u001b[0;34m(\u001b[0m\u001b[0mhost\u001b[0m\u001b[0;34m,\u001b[0m \u001b[0mport\u001b[0m\u001b[0;34m,\u001b[0m \u001b[0mfamily\u001b[0m\u001b[0;34m,\u001b[0m \u001b[0msocket\u001b[0m\u001b[0;34m.\u001b[0m\u001b[0mSOCK_STREAM\u001b[0m\u001b[0;34m)\u001b[0m\u001b[0;34m:\u001b[0m\u001b[0;34m\u001b[0m\u001b[0m\n\u001b[0m\u001b[1;32m     61\u001b[0m         \u001b[0maf\u001b[0m\u001b[0;34m,\u001b[0m \u001b[0msocktype\u001b[0m\u001b[0;34m,\u001b[0m \u001b[0mproto\u001b[0m\u001b[0;34m,\u001b[0m \u001b[0mcanonname\u001b[0m\u001b[0;34m,\u001b[0m \u001b[0msa\u001b[0m \u001b[0;34m=\u001b[0m \u001b[0mres\u001b[0m\u001b[0;34m\u001b[0m\u001b[0m\n",
      "\u001b[0;32m~/anaconda/lib/python3.5/socket.py\u001b[0m in \u001b[0;36mgetaddrinfo\u001b[0;34m(host, port, family, type, proto, flags)\u001b[0m\n\u001b[1;32m    731\u001b[0m     \u001b[0maddrlist\u001b[0m \u001b[0;34m=\u001b[0m \u001b[0;34m[\u001b[0m\u001b[0;34m]\u001b[0m\u001b[0;34m\u001b[0m\u001b[0m\n\u001b[0;32m--> 732\u001b[0;31m     \u001b[0;32mfor\u001b[0m \u001b[0mres\u001b[0m \u001b[0;32min\u001b[0m \u001b[0m_socket\u001b[0m\u001b[0;34m.\u001b[0m\u001b[0mgetaddrinfo\u001b[0m\u001b[0;34m(\u001b[0m\u001b[0mhost\u001b[0m\u001b[0;34m,\u001b[0m \u001b[0mport\u001b[0m\u001b[0;34m,\u001b[0m \u001b[0mfamily\u001b[0m\u001b[0;34m,\u001b[0m \u001b[0mtype\u001b[0m\u001b[0;34m,\u001b[0m \u001b[0mproto\u001b[0m\u001b[0;34m,\u001b[0m \u001b[0mflags\u001b[0m\u001b[0;34m)\u001b[0m\u001b[0;34m:\u001b[0m\u001b[0;34m\u001b[0m\u001b[0m\n\u001b[0m\u001b[1;32m    733\u001b[0m         \u001b[0maf\u001b[0m\u001b[0;34m,\u001b[0m \u001b[0msocktype\u001b[0m\u001b[0;34m,\u001b[0m \u001b[0mproto\u001b[0m\u001b[0;34m,\u001b[0m \u001b[0mcanonname\u001b[0m\u001b[0;34m,\u001b[0m \u001b[0msa\u001b[0m \u001b[0;34m=\u001b[0m \u001b[0mres\u001b[0m\u001b[0;34m\u001b[0m\u001b[0m\n",
      "\u001b[0;31mgaierror\u001b[0m: [Errno 8] nodename nor servname provided, or not known",
      "\nDuring handling of the above exception, another exception occurred:\n",
      "\u001b[0;31mNewConnectionError\u001b[0m                        Traceback (most recent call last)",
      "\u001b[0;32m~/anaconda/lib/python3.5/site-packages/requests/packages/urllib3/connectionpool.py\u001b[0m in \u001b[0;36murlopen\u001b[0;34m(self, method, url, body, headers, retries, redirect, assert_same_host, timeout, pool_timeout, release_conn, chunked, body_pos, **response_kw)\u001b[0m\n\u001b[1;32m    599\u001b[0m                                                   \u001b[0mbody\u001b[0m\u001b[0;34m=\u001b[0m\u001b[0mbody\u001b[0m\u001b[0;34m,\u001b[0m \u001b[0mheaders\u001b[0m\u001b[0;34m=\u001b[0m\u001b[0mheaders\u001b[0m\u001b[0;34m,\u001b[0m\u001b[0;34m\u001b[0m\u001b[0m\n\u001b[0;32m--> 600\u001b[0;31m                                                   chunked=chunked)\n\u001b[0m\u001b[1;32m    601\u001b[0m \u001b[0;34m\u001b[0m\u001b[0m\n",
      "\u001b[0;32m~/anaconda/lib/python3.5/site-packages/requests/packages/urllib3/connectionpool.py\u001b[0m in \u001b[0;36m_make_request\u001b[0;34m(self, conn, method, url, timeout, chunked, **httplib_request_kw)\u001b[0m\n\u001b[1;32m    355\u001b[0m         \u001b[0;32melse\u001b[0m\u001b[0;34m:\u001b[0m\u001b[0;34m\u001b[0m\u001b[0m\n\u001b[0;32m--> 356\u001b[0;31m             \u001b[0mconn\u001b[0m\u001b[0;34m.\u001b[0m\u001b[0mrequest\u001b[0m\u001b[0;34m(\u001b[0m\u001b[0mmethod\u001b[0m\u001b[0;34m,\u001b[0m \u001b[0murl\u001b[0m\u001b[0;34m,\u001b[0m \u001b[0;34m**\u001b[0m\u001b[0mhttplib_request_kw\u001b[0m\u001b[0;34m)\u001b[0m\u001b[0;34m\u001b[0m\u001b[0m\n\u001b[0m\u001b[1;32m    357\u001b[0m \u001b[0;34m\u001b[0m\u001b[0m\n",
      "\u001b[0;32m~/anaconda/lib/python3.5/http/client.py\u001b[0m in \u001b[0;36mrequest\u001b[0;34m(self, method, url, body, headers)\u001b[0m\n\u001b[1;32m   1082\u001b[0m         \u001b[0;34m\"\"\"Send a complete request to the server.\"\"\"\u001b[0m\u001b[0;34m\u001b[0m\u001b[0m\n\u001b[0;32m-> 1083\u001b[0;31m         \u001b[0mself\u001b[0m\u001b[0;34m.\u001b[0m\u001b[0m_send_request\u001b[0m\u001b[0;34m(\u001b[0m\u001b[0mmethod\u001b[0m\u001b[0;34m,\u001b[0m \u001b[0murl\u001b[0m\u001b[0;34m,\u001b[0m \u001b[0mbody\u001b[0m\u001b[0;34m,\u001b[0m \u001b[0mheaders\u001b[0m\u001b[0;34m)\u001b[0m\u001b[0;34m\u001b[0m\u001b[0m\n\u001b[0m\u001b[1;32m   1084\u001b[0m \u001b[0;34m\u001b[0m\u001b[0m\n",
      "\u001b[0;32m~/anaconda/lib/python3.5/http/client.py\u001b[0m in \u001b[0;36m_send_request\u001b[0;34m(self, method, url, body, headers)\u001b[0m\n\u001b[1;32m   1127\u001b[0m             \u001b[0mbody\u001b[0m \u001b[0;34m=\u001b[0m \u001b[0mbody\u001b[0m\u001b[0;34m.\u001b[0m\u001b[0mencode\u001b[0m\u001b[0;34m(\u001b[0m\u001b[0;34m'iso-8859-1'\u001b[0m\u001b[0;34m)\u001b[0m\u001b[0;34m\u001b[0m\u001b[0m\n\u001b[0;32m-> 1128\u001b[0;31m         \u001b[0mself\u001b[0m\u001b[0;34m.\u001b[0m\u001b[0mendheaders\u001b[0m\u001b[0;34m(\u001b[0m\u001b[0mbody\u001b[0m\u001b[0;34m)\u001b[0m\u001b[0;34m\u001b[0m\u001b[0m\n\u001b[0m\u001b[1;32m   1129\u001b[0m \u001b[0;34m\u001b[0m\u001b[0m\n",
      "\u001b[0;32m~/anaconda/lib/python3.5/http/client.py\u001b[0m in \u001b[0;36mendheaders\u001b[0;34m(self, message_body)\u001b[0m\n\u001b[1;32m   1078\u001b[0m             \u001b[0;32mraise\u001b[0m \u001b[0mCannotSendHeader\u001b[0m\u001b[0;34m(\u001b[0m\u001b[0;34m)\u001b[0m\u001b[0;34m\u001b[0m\u001b[0m\n\u001b[0;32m-> 1079\u001b[0;31m         \u001b[0mself\u001b[0m\u001b[0;34m.\u001b[0m\u001b[0m_send_output\u001b[0m\u001b[0;34m(\u001b[0m\u001b[0mmessage_body\u001b[0m\u001b[0;34m)\u001b[0m\u001b[0;34m\u001b[0m\u001b[0m\n\u001b[0m\u001b[1;32m   1080\u001b[0m \u001b[0;34m\u001b[0m\u001b[0m\n",
      "\u001b[0;32m~/anaconda/lib/python3.5/http/client.py\u001b[0m in \u001b[0;36m_send_output\u001b[0;34m(self, message_body)\u001b[0m\n\u001b[1;32m    910\u001b[0m \u001b[0;34m\u001b[0m\u001b[0m\n\u001b[0;32m--> 911\u001b[0;31m         \u001b[0mself\u001b[0m\u001b[0;34m.\u001b[0m\u001b[0msend\u001b[0m\u001b[0;34m(\u001b[0m\u001b[0mmsg\u001b[0m\u001b[0;34m)\u001b[0m\u001b[0;34m\u001b[0m\u001b[0m\n\u001b[0m\u001b[1;32m    912\u001b[0m         \u001b[0;32mif\u001b[0m \u001b[0mmessage_body\u001b[0m \u001b[0;32mis\u001b[0m \u001b[0;32mnot\u001b[0m \u001b[0;32mNone\u001b[0m\u001b[0;34m:\u001b[0m\u001b[0;34m\u001b[0m\u001b[0m\n",
      "\u001b[0;32m~/anaconda/lib/python3.5/http/client.py\u001b[0m in \u001b[0;36msend\u001b[0;34m(self, data)\u001b[0m\n\u001b[1;32m    853\u001b[0m             \u001b[0;32mif\u001b[0m \u001b[0mself\u001b[0m\u001b[0;34m.\u001b[0m\u001b[0mauto_open\u001b[0m\u001b[0;34m:\u001b[0m\u001b[0;34m\u001b[0m\u001b[0m\n\u001b[0;32m--> 854\u001b[0;31m                 \u001b[0mself\u001b[0m\u001b[0;34m.\u001b[0m\u001b[0mconnect\u001b[0m\u001b[0;34m(\u001b[0m\u001b[0;34m)\u001b[0m\u001b[0;34m\u001b[0m\u001b[0m\n\u001b[0m\u001b[1;32m    855\u001b[0m             \u001b[0;32melse\u001b[0m\u001b[0;34m:\u001b[0m\u001b[0;34m\u001b[0m\u001b[0m\n",
      "\u001b[0;32m~/anaconda/lib/python3.5/site-packages/requests/packages/urllib3/connection.py\u001b[0m in \u001b[0;36mconnect\u001b[0;34m(self)\u001b[0m\n\u001b[1;32m    165\u001b[0m     \u001b[0;32mdef\u001b[0m \u001b[0mconnect\u001b[0m\u001b[0;34m(\u001b[0m\u001b[0mself\u001b[0m\u001b[0;34m)\u001b[0m\u001b[0;34m:\u001b[0m\u001b[0;34m\u001b[0m\u001b[0m\n\u001b[0;32m--> 166\u001b[0;31m         \u001b[0mconn\u001b[0m \u001b[0;34m=\u001b[0m \u001b[0mself\u001b[0m\u001b[0;34m.\u001b[0m\u001b[0m_new_conn\u001b[0m\u001b[0;34m(\u001b[0m\u001b[0;34m)\u001b[0m\u001b[0;34m\u001b[0m\u001b[0m\n\u001b[0m\u001b[1;32m    167\u001b[0m         \u001b[0mself\u001b[0m\u001b[0;34m.\u001b[0m\u001b[0m_prepare_conn\u001b[0m\u001b[0;34m(\u001b[0m\u001b[0mconn\u001b[0m\u001b[0;34m)\u001b[0m\u001b[0;34m\u001b[0m\u001b[0m\n",
      "\u001b[0;32m~/anaconda/lib/python3.5/site-packages/requests/packages/urllib3/connection.py\u001b[0m in \u001b[0;36m_new_conn\u001b[0;34m(self)\u001b[0m\n\u001b[1;32m    149\u001b[0m             raise NewConnectionError(\n\u001b[0;32m--> 150\u001b[0;31m                 self, \"Failed to establish a new connection: %s\" % e)\n\u001b[0m\u001b[1;32m    151\u001b[0m \u001b[0;34m\u001b[0m\u001b[0m\n",
      "\u001b[0;31mNewConnectionError\u001b[0m: <requests.packages.urllib3.connection.HTTPConnection object at 0x1080ca6a0>: Failed to establish a new connection: [Errno 8] nodename nor servname provided, or not known",
      "\nDuring handling of the above exception, another exception occurred:\n",
      "\u001b[0;31mMaxRetryError\u001b[0m                             Traceback (most recent call last)",
      "\u001b[0;32m~/anaconda/lib/python3.5/site-packages/requests/adapters.py\u001b[0m in \u001b[0;36msend\u001b[0;34m(self, request, stream, timeout, verify, cert, proxies)\u001b[0m\n\u001b[1;32m    437\u001b[0m                     \u001b[0mretries\u001b[0m\u001b[0;34m=\u001b[0m\u001b[0mself\u001b[0m\u001b[0;34m.\u001b[0m\u001b[0mmax_retries\u001b[0m\u001b[0;34m,\u001b[0m\u001b[0;34m\u001b[0m\u001b[0m\n\u001b[0;32m--> 438\u001b[0;31m                     \u001b[0mtimeout\u001b[0m\u001b[0;34m=\u001b[0m\u001b[0mtimeout\u001b[0m\u001b[0;34m\u001b[0m\u001b[0m\n\u001b[0m\u001b[1;32m    439\u001b[0m                 )\n",
      "\u001b[0;32m~/anaconda/lib/python3.5/site-packages/requests/packages/urllib3/connectionpool.py\u001b[0m in \u001b[0;36murlopen\u001b[0;34m(self, method, url, body, headers, retries, redirect, assert_same_host, timeout, pool_timeout, release_conn, chunked, body_pos, **response_kw)\u001b[0m\n\u001b[1;32m    648\u001b[0m             retries = retries.increment(method, url, error=e, _pool=self,\n\u001b[0;32m--> 649\u001b[0;31m                                         _stacktrace=sys.exc_info()[2])\n\u001b[0m\u001b[1;32m    650\u001b[0m             \u001b[0mretries\u001b[0m\u001b[0;34m.\u001b[0m\u001b[0msleep\u001b[0m\u001b[0;34m(\u001b[0m\u001b[0;34m)\u001b[0m\u001b[0;34m\u001b[0m\u001b[0m\n",
      "\u001b[0;32m~/anaconda/lib/python3.5/site-packages/requests/packages/urllib3/util/retry.py\u001b[0m in \u001b[0;36mincrement\u001b[0;34m(self, method, url, response, error, _pool, _stacktrace)\u001b[0m\n\u001b[1;32m    387\u001b[0m         \u001b[0;32mif\u001b[0m \u001b[0mnew_retry\u001b[0m\u001b[0;34m.\u001b[0m\u001b[0mis_exhausted\u001b[0m\u001b[0;34m(\u001b[0m\u001b[0;34m)\u001b[0m\u001b[0;34m:\u001b[0m\u001b[0;34m\u001b[0m\u001b[0m\n\u001b[0;32m--> 388\u001b[0;31m             \u001b[0;32mraise\u001b[0m \u001b[0mMaxRetryError\u001b[0m\u001b[0;34m(\u001b[0m\u001b[0m_pool\u001b[0m\u001b[0;34m,\u001b[0m \u001b[0murl\u001b[0m\u001b[0;34m,\u001b[0m \u001b[0merror\u001b[0m \u001b[0;32mor\u001b[0m \u001b[0mResponseError\u001b[0m\u001b[0;34m(\u001b[0m\u001b[0mcause\u001b[0m\u001b[0;34m)\u001b[0m\u001b[0;34m)\u001b[0m\u001b[0;34m\u001b[0m\u001b[0m\n\u001b[0m\u001b[1;32m    389\u001b[0m \u001b[0;34m\u001b[0m\u001b[0m\n",
      "\u001b[0;31mMaxRetryError\u001b[0m: HTTPConnectionPool(host='www.metrolyrics.com', port=80): Max retries exceeded with url: /unite-the-dead-lyrics-cannibal-corpse.html (Caused by NewConnectionError('<requests.packages.urllib3.connection.HTTPConnection object at 0x1080ca6a0>: Failed to establish a new connection: [Errno 8] nodename nor servname provided, or not known',))",
      "\nDuring handling of the above exception, another exception occurred:\n",
      "\u001b[0;31mConnectionError\u001b[0m                           Traceback (most recent call last)",
      "\u001b[0;32m<ipython-input-136-526daefb91e8>\u001b[0m in \u001b[0;36m<module>\u001b[0;34m()\u001b[0m\n\u001b[1;32m      5\u001b[0m         \u001b[0msong\u001b[0m \u001b[0;34m=\u001b[0m \u001b[0msong_from_url\u001b[0m\u001b[0;34m(\u001b[0m\u001b[0msong_url\u001b[0m\u001b[0;34m)\u001b[0m\u001b[0;34m\u001b[0m\u001b[0m\n\u001b[1;32m      6\u001b[0m         \u001b[0;32mif\u001b[0m \u001b[0msong\u001b[0m \u001b[0;32mnot\u001b[0m \u001b[0;32min\u001b[0m \u001b[0mlyrics_df\u001b[0m\u001b[0;34m.\u001b[0m\u001b[0msong\u001b[0m\u001b[0;34m.\u001b[0m\u001b[0mvalues\u001b[0m\u001b[0;34m:\u001b[0m\u001b[0;34m\u001b[0m\u001b[0m\n\u001b[0;32m----> 7\u001b[0;31m             \u001b[0mlyrics\u001b[0m \u001b[0;34m=\u001b[0m \u001b[0mget_lyrics\u001b[0m\u001b[0;34m(\u001b[0m\u001b[0msong_url\u001b[0m\u001b[0;34m)\u001b[0m\u001b[0;34m\u001b[0m\u001b[0m\n\u001b[0m\u001b[1;32m      8\u001b[0m             lyrics_df = lyrics_df.append({'artist':artist,\n\u001b[1;32m      9\u001b[0m                                           \u001b[0;34m'song'\u001b[0m\u001b[0;34m:\u001b[0m\u001b[0msong\u001b[0m\u001b[0;34m,\u001b[0m\u001b[0;34m\u001b[0m\u001b[0m\n",
      "\u001b[0;32m<ipython-input-112-4ebb672a29db>\u001b[0m in \u001b[0;36mget_lyrics\u001b[0;34m(song_url)\u001b[0m\n\u001b[1;32m     24\u001b[0m \u001b[0;32mdef\u001b[0m \u001b[0mget_lyrics\u001b[0m\u001b[0;34m(\u001b[0m\u001b[0msong_url\u001b[0m\u001b[0;34m)\u001b[0m\u001b[0;34m:\u001b[0m\u001b[0;34m\u001b[0m\u001b[0m\n\u001b[1;32m     25\u001b[0m     \u001b[0msleep\u001b[0m\u001b[0;34m(\u001b[0m\u001b[0mrandom\u001b[0m\u001b[0;34m.\u001b[0m\u001b[0mrandint\u001b[0m\u001b[0;34m(\u001b[0m\u001b[0;36m0\u001b[0m\u001b[0;34m,\u001b[0m\u001b[0;36m10\u001b[0m\u001b[0;34m)\u001b[0m\u001b[0;34m)\u001b[0m\u001b[0;34m\u001b[0m\u001b[0m\n\u001b[0;32m---> 26\u001b[0;31m     \u001b[0mresponse\u001b[0m \u001b[0;34m=\u001b[0m \u001b[0mrequests\u001b[0m\u001b[0;34m.\u001b[0m\u001b[0mget\u001b[0m\u001b[0;34m(\u001b[0m\u001b[0msong_url\u001b[0m\u001b[0;34m)\u001b[0m\u001b[0;34m\u001b[0m\u001b[0m\n\u001b[0m\u001b[1;32m     27\u001b[0m     \u001b[0msoup\u001b[0m \u001b[0;34m=\u001b[0m \u001b[0mBeautifulSoup\u001b[0m\u001b[0;34m(\u001b[0m\u001b[0mresponse\u001b[0m\u001b[0;34m.\u001b[0m\u001b[0mcontent\u001b[0m\u001b[0;34m,\u001b[0m \u001b[0;34m'lxml'\u001b[0m\u001b[0;34m)\u001b[0m\u001b[0;34m\u001b[0m\u001b[0m\n\u001b[1;32m     28\u001b[0m     \u001b[0mverses\u001b[0m \u001b[0;34m=\u001b[0m \u001b[0msoup\u001b[0m\u001b[0;34m.\u001b[0m\u001b[0mfind_all\u001b[0m\u001b[0;34m(\u001b[0m\u001b[0;34m\"p\"\u001b[0m\u001b[0;34m,\u001b[0m\u001b[0;34m{\u001b[0m\u001b[0;34m\"class\"\u001b[0m\u001b[0;34m:\u001b[0m\u001b[0;34m\"verse\"\u001b[0m\u001b[0;34m}\u001b[0m\u001b[0;34m)\u001b[0m\u001b[0;34m\u001b[0m\u001b[0m\n",
      "\u001b[0;32m~/anaconda/lib/python3.5/site-packages/requests/api.py\u001b[0m in \u001b[0;36mget\u001b[0;34m(url, params, **kwargs)\u001b[0m\n\u001b[1;32m     70\u001b[0m \u001b[0;34m\u001b[0m\u001b[0m\n\u001b[1;32m     71\u001b[0m     \u001b[0mkwargs\u001b[0m\u001b[0;34m.\u001b[0m\u001b[0msetdefault\u001b[0m\u001b[0;34m(\u001b[0m\u001b[0;34m'allow_redirects'\u001b[0m\u001b[0;34m,\u001b[0m \u001b[0;32mTrue\u001b[0m\u001b[0;34m)\u001b[0m\u001b[0;34m\u001b[0m\u001b[0m\n\u001b[0;32m---> 72\u001b[0;31m     \u001b[0;32mreturn\u001b[0m \u001b[0mrequest\u001b[0m\u001b[0;34m(\u001b[0m\u001b[0;34m'get'\u001b[0m\u001b[0;34m,\u001b[0m \u001b[0murl\u001b[0m\u001b[0;34m,\u001b[0m \u001b[0mparams\u001b[0m\u001b[0;34m=\u001b[0m\u001b[0mparams\u001b[0m\u001b[0;34m,\u001b[0m \u001b[0;34m**\u001b[0m\u001b[0mkwargs\u001b[0m\u001b[0;34m)\u001b[0m\u001b[0;34m\u001b[0m\u001b[0m\n\u001b[0m\u001b[1;32m     73\u001b[0m \u001b[0;34m\u001b[0m\u001b[0m\n\u001b[1;32m     74\u001b[0m \u001b[0;34m\u001b[0m\u001b[0m\n",
      "\u001b[0;32m~/anaconda/lib/python3.5/site-packages/requests/api.py\u001b[0m in \u001b[0;36mrequest\u001b[0;34m(method, url, **kwargs)\u001b[0m\n\u001b[1;32m     56\u001b[0m     \u001b[0;31m# cases, and look like a memory leak in others.\u001b[0m\u001b[0;34m\u001b[0m\u001b[0;34m\u001b[0m\u001b[0m\n\u001b[1;32m     57\u001b[0m     \u001b[0;32mwith\u001b[0m \u001b[0msessions\u001b[0m\u001b[0;34m.\u001b[0m\u001b[0mSession\u001b[0m\u001b[0;34m(\u001b[0m\u001b[0;34m)\u001b[0m \u001b[0;32mas\u001b[0m \u001b[0msession\u001b[0m\u001b[0;34m:\u001b[0m\u001b[0;34m\u001b[0m\u001b[0m\n\u001b[0;32m---> 58\u001b[0;31m         \u001b[0;32mreturn\u001b[0m \u001b[0msession\u001b[0m\u001b[0;34m.\u001b[0m\u001b[0mrequest\u001b[0m\u001b[0;34m(\u001b[0m\u001b[0mmethod\u001b[0m\u001b[0;34m=\u001b[0m\u001b[0mmethod\u001b[0m\u001b[0;34m,\u001b[0m \u001b[0murl\u001b[0m\u001b[0;34m=\u001b[0m\u001b[0murl\u001b[0m\u001b[0;34m,\u001b[0m \u001b[0;34m**\u001b[0m\u001b[0mkwargs\u001b[0m\u001b[0;34m)\u001b[0m\u001b[0;34m\u001b[0m\u001b[0m\n\u001b[0m\u001b[1;32m     59\u001b[0m \u001b[0;34m\u001b[0m\u001b[0m\n\u001b[1;32m     60\u001b[0m \u001b[0;34m\u001b[0m\u001b[0m\n",
      "\u001b[0;32m~/anaconda/lib/python3.5/site-packages/requests/sessions.py\u001b[0m in \u001b[0;36mrequest\u001b[0;34m(self, method, url, params, data, headers, cookies, files, auth, timeout, allow_redirects, proxies, hooks, stream, verify, cert, json)\u001b[0m\n\u001b[1;32m    516\u001b[0m         }\n\u001b[1;32m    517\u001b[0m         \u001b[0msend_kwargs\u001b[0m\u001b[0;34m.\u001b[0m\u001b[0mupdate\u001b[0m\u001b[0;34m(\u001b[0m\u001b[0msettings\u001b[0m\u001b[0;34m)\u001b[0m\u001b[0;34m\u001b[0m\u001b[0m\n\u001b[0;32m--> 518\u001b[0;31m         \u001b[0mresp\u001b[0m \u001b[0;34m=\u001b[0m \u001b[0mself\u001b[0m\u001b[0;34m.\u001b[0m\u001b[0msend\u001b[0m\u001b[0;34m(\u001b[0m\u001b[0mprep\u001b[0m\u001b[0;34m,\u001b[0m \u001b[0;34m**\u001b[0m\u001b[0msend_kwargs\u001b[0m\u001b[0;34m)\u001b[0m\u001b[0;34m\u001b[0m\u001b[0m\n\u001b[0m\u001b[1;32m    519\u001b[0m \u001b[0;34m\u001b[0m\u001b[0m\n\u001b[1;32m    520\u001b[0m         \u001b[0;32mreturn\u001b[0m \u001b[0mresp\u001b[0m\u001b[0;34m\u001b[0m\u001b[0m\n",
      "\u001b[0;32m~/anaconda/lib/python3.5/site-packages/requests/sessions.py\u001b[0m in \u001b[0;36msend\u001b[0;34m(self, request, **kwargs)\u001b[0m\n\u001b[1;32m    637\u001b[0m \u001b[0;34m\u001b[0m\u001b[0m\n\u001b[1;32m    638\u001b[0m         \u001b[0;31m# Send the request\u001b[0m\u001b[0;34m\u001b[0m\u001b[0;34m\u001b[0m\u001b[0m\n\u001b[0;32m--> 639\u001b[0;31m         \u001b[0mr\u001b[0m \u001b[0;34m=\u001b[0m \u001b[0madapter\u001b[0m\u001b[0;34m.\u001b[0m\u001b[0msend\u001b[0m\u001b[0;34m(\u001b[0m\u001b[0mrequest\u001b[0m\u001b[0;34m,\u001b[0m \u001b[0;34m**\u001b[0m\u001b[0mkwargs\u001b[0m\u001b[0;34m)\u001b[0m\u001b[0;34m\u001b[0m\u001b[0m\n\u001b[0m\u001b[1;32m    640\u001b[0m \u001b[0;34m\u001b[0m\u001b[0m\n\u001b[1;32m    641\u001b[0m         \u001b[0;31m# Total elapsed time of the request (approximately)\u001b[0m\u001b[0;34m\u001b[0m\u001b[0;34m\u001b[0m\u001b[0m\n",
      "\u001b[0;32m~/anaconda/lib/python3.5/site-packages/requests/adapters.py\u001b[0m in \u001b[0;36msend\u001b[0;34m(self, request, stream, timeout, verify, cert, proxies)\u001b[0m\n\u001b[1;32m    500\u001b[0m                 \u001b[0;32mraise\u001b[0m \u001b[0mProxyError\u001b[0m\u001b[0;34m(\u001b[0m\u001b[0me\u001b[0m\u001b[0;34m,\u001b[0m \u001b[0mrequest\u001b[0m\u001b[0;34m=\u001b[0m\u001b[0mrequest\u001b[0m\u001b[0;34m)\u001b[0m\u001b[0;34m\u001b[0m\u001b[0m\n\u001b[1;32m    501\u001b[0m \u001b[0;34m\u001b[0m\u001b[0m\n\u001b[0;32m--> 502\u001b[0;31m             \u001b[0;32mraise\u001b[0m \u001b[0mConnectionError\u001b[0m\u001b[0;34m(\u001b[0m\u001b[0me\u001b[0m\u001b[0;34m,\u001b[0m \u001b[0mrequest\u001b[0m\u001b[0;34m=\u001b[0m\u001b[0mrequest\u001b[0m\u001b[0;34m)\u001b[0m\u001b[0;34m\u001b[0m\u001b[0m\n\u001b[0m\u001b[1;32m    503\u001b[0m \u001b[0;34m\u001b[0m\u001b[0m\n\u001b[1;32m    504\u001b[0m         \u001b[0;32mexcept\u001b[0m \u001b[0mClosedPoolError\u001b[0m \u001b[0;32mas\u001b[0m \u001b[0me\u001b[0m\u001b[0;34m:\u001b[0m\u001b[0;34m\u001b[0m\u001b[0m\n",
      "\u001b[0;31mConnectionError\u001b[0m: HTTPConnectionPool(host='www.metrolyrics.com', port=80): Max retries exceeded with url: /unite-the-dead-lyrics-cannibal-corpse.html (Caused by NewConnectionError('<requests.packages.urllib3.connection.HTTPConnection object at 0x1080ca6a0>: Failed to establish a new connection: [Errno 8] nodename nor servname provided, or not known',))"
     ]
    }
   ],
   "source": [
    "t0 = time()\n",
    "for artist in art_song_dict:\n",
    "    print(\"Fetching lyrics for: \",artist)\n",
    "    for song_url in art_song_dict[artist]:\n",
    "        song = song_from_url(song_url)\n",
    "        if song not in lyrics_df.song.values:\n",
    "            lyrics = get_lyrics(song_url)\n",
    "            lyrics_df = lyrics_df.append({'artist':artist,\n",
    "                                          'song':song,\n",
    "                                          'lyrics':lyrics},ignore_index=True)\n",
    "print('Done in {:02f}s'.format(time()-t0))"
   ]
  },
  {
   "cell_type": "code",
   "execution_count": 139,
   "metadata": {
    "collapsed": true
   },
   "outputs": [],
   "source": [
    "# Save the lyrics DataFrame for future use.\n",
    "lyrics_df.to_csv('lyrics.csv')"
   ]
  },
  {
   "cell_type": "markdown",
   "metadata": {},
   "source": [
    "There were some lyrics that weren't available on MetroLyrics. The following is an attempt to get the missing lyrics from another site: Genius.com."
   ]
  },
  {
   "cell_type": "code",
   "execution_count": 182,
   "metadata": {
    "collapsed": true
   },
   "outputs": [],
   "source": [
    "def get_genius_lyrics(song,artist):\n",
    "    url = \"http://genius.com/{}-{}-lyrics\".format(artist.replace(' ','-'),song.replace(' ','-'))\n",
    "    print(url)\n",
    "    response = requests.get(url)\n",
    "    if response.status_code != 404:\n",
    "        soup = BeautifulSoup(response.content,'lxml')\n",
    "        lyrics = soup.find(\"div\",{\"class\":\"lyrics\"})\n",
    "        text = lyrics.find(\"p\").text.replace('\\n',' ')\n",
    "        print(text)\n",
    "        return text\n",
    "    return ''"
   ]
  },
  {
   "cell_type": "code",
   "execution_count": 186,
   "metadata": {},
   "outputs": [
    {
     "name": "stdout",
     "output_type": "stream",
     "text": [
      "http://genius.com/gojira-ocean-planet-lyrics\n",
      "I'm in a mental cage I'm locked up Imprisoned I live Deathlike, sickening Strong is your hold On my resignation I don't see the stars My memories are veiled  In fluid dreams I fall I'm restless Walls made of stone Are turned into water now Enlightened demons Are taking me by the hand Approaching me This great eye speaking  Mountainous waves Are breaking on my despair Awaken me but I'm still dreaming And I just plunge Into this sea of light Set open the doors of soul I'm living  Lightning struck me I see the path I was so scared of And fly to the stars Conviction now increasing at last My skin is broken I see the smallest part of me My mind is alive But I'll never bow to this again  Why do they call me there How can I fly All this water I don't feel like I could ever swim to them Whales in the sky I feel they're so close Inside, and yet so far away  Burst into tears, I feel sad My dreams aflame The force is now Lie on a stone Drop this load and try to see The ocean planet is on burn\n"
     ]
    }
   ],
   "source": [
    "lyrics_df.iloc[23].lyrics = get_genius_lyrics('ocean planet','gojira')"
   ]
  },
  {
   "cell_type": "code",
   "execution_count": 187,
   "metadata": {},
   "outputs": [
    {
     "data": {
      "text/plain": [
       "artist                                               gojira\n",
       "song                                           ocean planet\n",
       "lyrics    I'm in a mental cage I'm locked up Imprisoned ...\n",
       "Name: 23, dtype: object"
      ]
     },
     "execution_count": 187,
     "metadata": {},
     "output_type": "execute_result"
    }
   ],
   "source": [
    "lyrics_df.iloc[23]"
   ]
  },
  {
   "cell_type": "code",
   "execution_count": 189,
   "metadata": {},
   "outputs": [
    {
     "name": "stdout",
     "output_type": "stream",
     "text": [
      "150 songs missing!\n",
      "http://genius.com/gojira-from-the-sky-lyrics\n",
      "At the very first sound There was just light And then, a storm Of time and space Just came and struck Created our time In water life We understand It just only began  Forced to look to the sky And wonder why We cannot face the fact that We're all scared now Of mysteries of life There is a mask that soon will fall Before the strong embrace Of love and might Of light in the dark I go for a quest I have to give myself the answer Enter now this place in the wild I can see the glade My feeling now is growing bigger  From the sky From the sky  I do feel like no one can save me I am so alone and yet I cried I called for help, forsaken But now I know The only way is to Understand the living Obey the rule of light And face the fear Inside out!  Lost, I found there a stone Erected in line With one the brightest stars Of all the night sky vault And I took my time Took off the moss Washed away the dust And gave a new lease of life Its' mystical force I grab it now And praise this lord Of earth and stone Make passage for souls awaken So it returns To where it's always been With the gods Now coming, I feel the love It comes from on high  I know the words But now I feel it inside It grows, it's there And all it comes From the sky From the sky\n",
      "Setting the lyrics...\n",
      "http://genius.com/gojira-1990-quatrillions-de-tonnes-lyrics\n",
      "http://genius.com/gojira-to-sirius-lyrics\n",
      "Now from a solar system To another I fly I come with life in my veins Through darkened space I ran I left a struggle behind And faced the fear that's alive I lost a world and traveled Straight across from the sky To find the gates of the heart  I come to Sirius C To learn from you friends of old And wish to come into being And behold I'm with you I am ready now to go The distance and even beyond Recover all my forces All the strength of the world And feel the light into me  From the strength of God We go to the power of Goddess This place is a throne For brightness The age of war is over  For God's sake They have never heard of you \"You'll never reach This master race\" Our force sickening Killing all the time Human laws Already slayed many lives  There was a streak of madness But now I know I see it's not the only truth The scars in me are opened Won't you please call me beyond  Crave affection love and courage Being courageous And flying instead of Falling down Follow these instructions I've been given In this dream awake  There is no goal to reach now Leviathans No complaint at all Dolphins from upper space Are in front of me In present they dwell  This is my way I've found my home My state of real There is no goal to reach This is my way\n",
      "Setting the lyrics...\n",
      "http://genius.com/gojira-dawn-lyrics\n",
      "[Instrumental]\n",
      "Setting the lyrics...\n",
      "http://genius.com/gojira-torii-lyrics\n",
      "[Instrumental]\n",
      "Setting the lyrics...\n",
      "http://genius.com/gojira-terra-incognita-lyrics\n",
      "[Instrumental]\n",
      "Setting the lyrics...\n",
      "http://genius.com/gojira-wisdom-lyrics\n",
      "http://genius.com/gojira-connected-lyrics\n",
      "[Instrumental]\n",
      "Setting the lyrics...\n",
      "http://genius.com/gojira-where-dragons-fall-lyrics\n",
      "http://genius.com/gojira-burden-of-evil-lyrics\n",
      "http://genius.com/gojira-ceremonial-void-lyrics\n",
      "http://genius.com/gojira-darkest-dream-lyrics\n",
      "http://genius.com/gojira-horror-infinity-lyrics\n",
      "http://genius.com/gojira-immense-malignancy-lyrics\n",
      "http://genius.com/gojira-imperial-doom-lyrics\n",
      "http://genius.com/gojira-the-third-reich-lyrics\n",
      "http://genius.com/gojira-to-the-republic-lyrics\n",
      "http://genius.com/gojira-the-darkest-ages-lyrics\n",
      "http://genius.com/gojira-god-of-war-lyrics\n",
      "http://genius.com/gojira-attila-lyrics\n",
      "http://genius.com/gojira-poseidon-lyrics\n",
      "http://genius.com/gojira-oracle-of-the-dead-lyrics\n",
      "http://genius.com/gojira-the-unseen-lyrics\n",
      "http://genius.com/gojira-the-offering-lyrics\n",
      "http://genius.com/gojira-path-to-extincton-lyrics\n",
      "http://genius.com/gojira-path-to-extinction-explicit-lyrics\n",
      "http://genius.com/gojira-depths-lyrics\n",
      "http://genius.com/gojira-final-form-explicit-lyrics\n",
      "http://genius.com/gojira-final-form-lyrics\n",
      "http://genius.com/gojira-abysm-lyrics\n",
      "http://genius.com/gojira-digital-booklet-revelation-lyrics\n",
      "http://genius.com/gojira-descent-lyrics\n",
      "http://genius.com/gojira-continuum-lyrics\n",
      "http://genius.com/gojira-obsolescence-lyrics\n",
      "http://genius.com/gojira-awaken-the-suffering-lyrics\n",
      "http://genius.com/gojira-permanence-lyrics\n",
      "http://genius.com/gojira-inferno-lyrics\n",
      "http://genius.com/gojira-praise-the-lord-opium-of-the-masses-lyrics\n",
      "http://genius.com/gojira-descend-into-depravity-lyrics\n",
      "http://genius.com/gojira-harvest-lyrics\n",
      "http://genius.com/gojira-immemorial-essence-lyrics\n",
      "http://genius.com/gojira-unhallowed-lyrics\n",
      "http://genius.com/gojira-the-macrocosm-lyrics\n",
      "http://genius.com/gojira-prognosis-confirmed-lyrics\n",
      "http://genius.com/gojira-margidda-lyrics\n",
      "http://genius.com/gojira-the-relic-lyrics\n",
      "http://genius.com/gojira-ethnomusicological-cannibalisms-lyrics\n",
      "http://genius.com/gojira-slaves-of-xul-lyrics\n",
      "http://genius.com/gojira-the-inevitable-degradation-of-flesh-instrumental-lyrics\n",
      "http://genius.com/gojira-ushabti-reanimator-lyrics\n",
      "http://genius.com/gojira-enduring-the-eternal-molestation-of-flame-instrumental-lyrics\n",
      "http://genius.com/gojira-the-nocturnal-moon-lyrics\n",
      "http://genius.com/gojira-de-hangdas-furste-lyrics\n",
      "http://genius.com/gojira-muspelheim-the-dominion-of-the-flame-lyrics\n",
      "http://genius.com/gojira-lokes-att-lyrics\n",
      "http://genius.com/gojira-storms-of-war-lyrics\n",
      "http://genius.com/gojira-the-rage-of-the-northmen-lyrics\n",
      "http://genius.com/gojira-in-battle-lyrics\n",
      "http://genius.com/gojira-the-destroyer-of-souls-lyrics\n",
      "http://genius.com/gojira-the-spectre-of-hate-lyrics\n",
      "http://genius.com/gojira-odhinn-lyrics\n",
      "http://genius.com/gojira-a-sign-of-northern-triumph-and-glory-lyrics\n",
      "http://genius.com/gojira-the-conqueror-lyrics\n",
      "http://genius.com/gojira-armies-of-the-northern-realms-lyrics\n",
      "http://genius.com/gojira-enchant-me-lyrics\n",
      "http://genius.com/gojira-doom-of-the-unbeloved-lyrics\n",
      "http://genius.com/gojira-from-the-flesh-and-bones-of-our-enemies-lyrics\n",
      "http://genius.com/gojira-i-ofred-vi-drar-fram-lyrics\n",
      "http://genius.com/gojira-helhorde-lyrics\n",
      "http://genius.com/gojira-ruler-of-the-northern-sphere-lyrics\n",
      "http://genius.com/gojira-ar-av-kold-lyrics\n",
      "http://genius.com/gojira-abomination-reborn-lyrics\n",
      "http://genius.com/gojira-some-things-should-be-left-alone-lyrics\n",
      "http://genius.com/gojira-jesus-wept-lyrics\n",
      "http://genius.com/monstrosity-prelude-to-repulsion-lyrics\n",
      "http://genius.com/monstrosity-souls-to-deny-lyrics\n",
      "http://genius.com/monstrosity-the-origin-of-primal-expression-lyrics\n",
      "http://genius.com/monstrosity-ayahuasca-experience-lyrics\n",
      "http://genius.com/monstrosity-swarmer-lyrics\n",
      "http://genius.com/monstrosity-mindu2019s-mirrors-in-death-is-life-in-death-is-death-lyrics\n",
      "http://genius.com/monstrosity-sovereigns-morbitity-lyrics\n",
      "http://genius.com/monstrosity-debt-of-nature-lyrics\n",
      "http://genius.com/monstrosity-by-emptyness-abducted-lyrics\n",
      "http://genius.com/monstrosity-dont-speak-lyrics\n",
      "http://genius.com/monstrosity-tour-and-studio-clips-mpeg-video-trax-lyrics\n",
      "http://genius.com/monstrosity-within-the-mind-lyrics\n",
      "http://genius.com/monstrosity-open-casket-lyrics\n",
      "http://genius.com/monstrosity-nothing-is-everything-lyrics\n",
      "http://genius.com/monstrosity-jealousy-lyrics\n",
      "http://genius.com/monstrosity-evil-dead-lyrics\n",
      "http://genius.com/monstrosity-left-to-die-lyrics\n",
      "http://genius.com/monstrosity-free-lyrics\n",
      "http://genius.com/monstrosity-choke-on-it-lyrics\n",
      "http://genius.com/monstrosity-forgotten-past-lyrics\n",
      "http://genius.com/monstrosity-youre-a-prisoner-lyrics\n",
      "http://genius.com/monstrosity-open-road-lyrics\n",
      "http://genius.com/monstrosity-look-at-your-life-lyrics\n",
      "http://genius.com/monstrosity-the-times-lyrics\n",
      "http://genius.com/monstrosity-playtime-lyrics\n",
      "http://genius.com/monstrosity-you-are-what-you-think-lyrics\n",
      "http://genius.com/monstrosity-at-the-station-lyrics\n",
      "http://genius.com/monstrosity-one-man-parade-lyrics\n",
      "http://genius.com/monstrosity-ex-nihilo-lyrics\n",
      "http://genius.com/monstrosity-elegy-lyrics\n",
      "http://genius.com/monstrosity-autopsy-lyrics\n",
      "http://genius.com/monstrosity-the-epigone-lyrics\n",
      "http://genius.com/monstrosity-the-magnetic-sky-lyrics\n",
      "http://genius.com/monstrosity-path-of-the-beam-lyrics\n",
      "http://genius.com/monstrosity-internal-illumination-lyrics\n"
     ]
    },
    {
     "name": "stdout",
     "output_type": "stream",
     "text": [
      "http://genius.com/monstrosity-the-war-ender-lyrics\n",
      "http://genius.com/monstrosity-i-am-lyrics\n",
      "http://genius.com/monstrosity-the-sky-bearer-lyrics\n",
      "http://genius.com/monstrosity-the-time-bender-lyrics\n",
      "http://genius.com/monstrosity-the-eyes-of-the-storm-lyrics\n",
      "http://genius.com/monstrosity-the-weapon-breaker-lyrics\n",
      "http://genius.com/as-they-sleep-no-fall-too-far-lyrics\n",
      "http://genius.com/as-they-sleep-the-trivial-paroxysm-lyrics\n",
      "http://genius.com/as-they-sleep-dichotomy-lyrics\n",
      "http://genius.com/as-they-sleep-breathing-light-lyrics\n",
      "http://genius.com/as-they-sleep-the-ocean-walker-lyrics\n",
      "http://genius.com/as-they-sleep-cardiac-rebellion-lyrics\n",
      "http://genius.com/as-they-sleep-the-sun-eater-lyrics\n",
      "http://genius.com/as-they-sleep-the-planet-maker-lyrics\n",
      "http://genius.com/as-they-sleep-enter-the-hall-lyrics\n",
      "http://genius.com/as-they-sleep-leviathan-awaits-lyrics\n",
      "http://genius.com/as-they-sleep-pestilence-reigns-lyrics\n",
      "http://genius.com/oceano-dismantle-the-dictator-lyrics\n",
      "http://genius.com/oceano-across-forests-and-fjords-lyrics\n",
      "http://genius.com/oceano-existence-is-futile-lyrics\n",
      "http://genius.com/oceano-apex-lyrics\n",
      "http://genius.com/oceano-the-exaltation-lyrics\n",
      "http://genius.com/oceano-anthem-of-the-betrayed-lyrics\n",
      "http://genius.com/oceano-six-feet-of-foreplay-lyrics\n",
      "http://genius.com/oceano-dellamorte-dellamore-lyrics\n",
      "http://genius.com/oceano-the-source-lyrics\n",
      "http://genius.com/oceano-axiom-lyrics\n",
      "http://genius.com/oceano-anger-line-lyrics\n",
      "http://genius.com/oceano-never-lyrics\n",
      "http://genius.com/oceano-amen-lyrics\n",
      "http://genius.com/oceano-devour-me-colossus-pt-2-contortions-lyrics\n",
      "http://genius.com/oceano-painters-of-the-tempest-pt-3-reveries-from-the-lyrics\n",
      "http://genius.com/oceano-painters-of-the-tempest-pt-1-wyrmoles-lyrics\n",
      "http://genius.com/oceano-stabwound-lyrics\n",
      "http://genius.com/oceano-epitath-lyrics\n",
      "http://genius.com/oceano-concepting-the-era-of-genocide-lyrics\n",
      "http://genius.com/oceano-esence-of-creation-lyrics\n",
      "http://genius.com/oceano-darkness-embrace-lyrics\n",
      "http://genius.com/oceano-sea-of-memories-lyrics\n",
      "http://genius.com/oceano-the-enigmatic-form-lyrics\n",
      "http://genius.com/oceano-the-morpheus-oracle-lyrics\n",
      "Done in 33.170730\n"
     ]
    }
   ],
   "source": [
    "missing_songs = lyrics_df[lyrics_df.lyrics==''].song\n",
    "print(\"{} songs missing!\".format(len(missing_songs)))\n",
    "\n",
    "t0 = time()\n",
    "for idx,song in enumerate(missing_songs):\n",
    "    artist = lyrics_df.iloc[idx].artist\n",
    "    lyrics = get_genius_lyrics(song,artist)\n",
    "    if lyrics != '':\n",
    "        lyrics_df.iloc[idx].lyrics = lyrics\n",
    "print(\"Done in {:02f}\".format(time()-t0))\n",
    "\n",
    "# Save our work.\n",
    "lyrics_df.to_csv('lyrics.csv')"
   ]
  },
  {
   "cell_type": "markdown",
   "metadata": {},
   "source": [
    "## TFIDF\n",
    "\n",
    "Term frequency inverse document frequency (TFIDF) is a good way to visualize which words are "
   ]
  },
  {
   "cell_type": "code",
   "execution_count": null,
   "metadata": {
    "collapsed": true
   },
   "outputs": [],
   "source": [
    "# TODO"
   ]
  },
  {
   "cell_type": "markdown",
   "metadata": {
    "collapsed": true
   },
   "source": [
    "## Swear Words\n",
    "\n",
    "The original author did not provide a full dataset of lyrics (or even the code to scrape it). He did, however, provide a list of naughy words. So, we used that to explore naughty words in the lyrics we collected."
   ]
  },
  {
   "cell_type": "code",
   "execution_count": 128,
   "metadata": {
    "collapsed": true
   },
   "outputs": [],
   "source": [
    "# TODO"
   ]
  },
  {
   "cell_type": "markdown",
   "metadata": {},
   "source": [
    "## Cosine Distance"
   ]
  },
  {
   "cell_type": "code",
   "execution_count": null,
   "metadata": {
    "collapsed": true
   },
   "outputs": [],
   "source": [
    "# TODO"
   ]
  },
  {
   "cell_type": "markdown",
   "metadata": {},
   "source": [
    "## Lyric Generation"
   ]
  },
  {
   "cell_type": "code",
   "execution_count": null,
   "metadata": {
    "collapsed": true
   },
   "outputs": [],
   "source": [
    "# TODO"
   ]
  }
 ],
 "metadata": {
  "kernelspec": {
   "display_name": "Python 3",
   "language": "python",
   "name": "python3"
  },
  "language_info": {
   "codemirror_mode": {
    "name": "ipython",
    "version": 3
   },
   "file_extension": ".py",
   "mimetype": "text/x-python",
   "name": "python",
   "nbconvert_exporter": "python",
   "pygments_lexer": "ipython3",
   "version": "3.5.1"
  }
 },
 "nbformat": 4,
 "nbformat_minor": 2
}
