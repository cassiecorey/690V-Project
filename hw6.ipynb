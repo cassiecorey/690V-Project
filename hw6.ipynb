{
 "cells": [
  {
   "cell_type": "markdown",
   "metadata": {},
   "source": [
    "# KMeans on Cybersecurity Data\n",
    "\n",
    "Using the SSH log from http://www.secrepo.com/, we attempt to determine how the KMeans algorithm performs on a naive network security dataset. After converting the ssh.log file into a csv, we begin by reading in the data set and using the get_dummies function from pandas to convert the code the categorical dataset into something that can be processed by sklearn. "
   ]
  },
  {
   "cell_type": "code",
   "execution_count": null,
   "metadata": {},
   "outputs": [],
   "source": [
    "import pandas as pd\n",
    "df_ssh = pd.read_csv(\"ssh.csv\", header = None)\n",
    "df_transformed = pd.get_dummies(df_ssh)"
   ]
  },
  {
   "cell_type": "markdown",
   "metadata": {},
   "source": [
    "# Training the Model\n",
    "\n",
    "Next, the simple training step. Since our data set is quite large (over 7000 rows and columns when transformed into dummy values), it takes a while to train 10 models clustering with varying sizes of K. We will use the silhouette score to evaluate the performance of each cluster and further examine which cluster size fits the data best."
   ]
  },
  {
   "cell_type": "code",
   "execution_count": null,
   "metadata": {
    "collapsed": true
   },
   "outputs": [],
   "source": [
    "from sklearn.manifold import TSNE\n",
    "TSNE_output = TSNE().fit_transform(df_transformed.values)\n",
    "TSNE_output"
   ]
  },
  {
   "cell_type": "code",
   "execution_count": null,
   "metadata": {},
   "outputs": [],
   "source": [
    "from bokeh.io import gridplot, output_notebook, push_notebook\n",
    "from bokeh.plotting import figure, show, ColumnDataSource\n",
    "from bokeh.models import HoverTool\n",
    "output_notebook()\n",
    "\n",
    "df_display = df_transformed.copy()\n",
    "df_display[\"x\"] = TSNE_output[:,0]\n",
    "df_display[\"y\"] = TSNE_output[:,1]\n",
    "\n",
    "p = figure(plot_height = 800, plot_width = 800, tools = [\"hover\"], title = \"TSNE of Dataset 2 with Hover\")                                               \n",
    "p.left[0].formatter.use_scientific = False\n",
    "p.circle(\"x\", \"y\", color = \"red\", source = df_display)\n",
    "\n",
    "show(p)"
   ]
  },
  {
   "cell_type": "code",
   "execution_count": null,
   "metadata": {},
   "outputs": [],
   "source": [
    "from sklearn.cluster import KMeans\n",
    "from sklearn.metrics import silhouette_score\n",
    "import numpy as np\n",
    "\n",
    "def calcClusters():\n",
    "    nrange = np.arange(2, 11, 1)\n",
    "    output = []\n",
    "    best = 0\n",
    "    index = 0\n",
    "    for n in nrange:\n",
    "        print(\"Training on \" + str(n) + \" Clusters...\")\n",
    "        model = KMeans(n_clusters = n).fit(df_transformed.values)\n",
    "        score = silhouette_score(df_transformed, model.labels_, metric = 'euclidean')\n",
    "        output.append((n, model.labels_, score))\n",
    "        if score > best:\n",
    "            best = score\n",
    "            index = len(output) - 1\n",
    "    return output, best, index\n",
    "\n",
    "output, best, index = calcClusters()\n",
    "print(\"Training Complete!\")"
   ]
  },
  {
   "cell_type": "code",
   "execution_count": null,
   "metadata": {
    "collapsed": true
   },
   "outputs": [],
   "source": []
  }
 ],
 "metadata": {
  "kernelspec": {
   "display_name": "Python 3",
   "language": "python",
   "name": "python3"
  },
  "language_info": {
   "codemirror_mode": {
    "name": "ipython",
    "version": 3
   },
   "file_extension": ".py",
   "mimetype": "text/x-python",
   "name": "python",
   "nbconvert_exporter": "python",
   "pygments_lexer": "ipython3",
   "version": "3.6.1"
  }
 },
 "nbformat": 4,
 "nbformat_minor": 2
}
